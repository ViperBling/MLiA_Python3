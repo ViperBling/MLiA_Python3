{
 "cells": [
  {
   "cell_type": "markdown",
   "metadata": {},
   "source": [
    "# Decision Tree"
   ]
  },
  {
   "cell_type": "markdown",
   "metadata": {},
   "source": [
    "决策树\n",
    "> 优点：计算复杂度不高，输出结果易于理解，对中间值缺失不敏感，可以处理不相关特征数据。<br>\n",
    "> 缺点：可能会产生过拟合问题。<br>\n",
    "> 适用数据类型：数值型和标称型。\n",
    "\n",
    "决策树的一般流程\n",
    "> 1. 收集数据<br>\n",
    "> 2. 准备数据：树构造算法只适用于标称型数据，所以数值型数据需要离散化。<br>\n",
    "> 3. 分析数据：可以使用任何方法，构造树完成后，应该检查图形是否符合预期。<br>\n",
    "> 4. 训练算法：构造树的数据结构。<br>\n",
    "> 5. 测试算法：使用验证集计算错误率。<br>\n",
    "> 6. 使用算法"
   ]
  },
  {
   "cell_type": "markdown",
   "metadata": {},
   "source": [
    "## 1. 信息熵\n",
    "信息熵：$$H=-\\sum_{i=1}^{n}p(x_i)\\log_2{p}(x_i)$$\n",
    "计算信息熵"
   ]
  },
  {
   "cell_type": "code",
   "execution_count": 1,
   "metadata": {},
   "outputs": [],
   "source": [
    "import numpy as np\n",
    "from math import log\n",
    "import matplotlib.pyplot as plt\n",
    "import pandas as pd\n",
    "import operator\n",
    "import collections"
   ]
  },
  {
   "cell_type": "code",
   "execution_count": 2,
   "metadata": {},
   "outputs": [],
   "source": [
    "def calcShannonEnt(dataSet):\n",
    "    \"\"\"Calculate Shannon entropy\n",
    "    \n",
    "    Returns\n",
    "    -----------\n",
    "    shannonEnt\n",
    "    \"\"\"\n",
    "    \n",
    "    # 将数据转化为numpy数组\n",
    "    dataSet = np.array(dataSet)\n",
    "    numEntries = dataSet.shape[0]\n",
    "    \n",
    "    # 使用unique方法获得不同的标签\n",
    "    labelCounts = np.unique(dataSet[:, -1])\n",
    "    \n",
    "    shannonEnt = 0.0\n",
    "    for key in labelCounts:\n",
    "        # 计算dataSet中所有值为key的样本个数\n",
    "        numKey = np.sum(dataSet[:, -1] == key)\n",
    "        prob = numKey / numEntries\n",
    "        shannonEnt -= prob * log(prob, 2)\n",
    "        \n",
    "    \n",
    "#     # 计算数据集长度\n",
    "#     numEntries = len(dataSet)\n",
    "    \n",
    "#     # 计算分类标签的出现次数\n",
    "#     labelCounts = {}\n",
    "#     for featVec in dataSet:\n",
    "        \n",
    "#         # 获取当前条目的标签\n",
    "#         currentLabel = featVec[-1]\n",
    "#         # 为所有可能的分类创建键值，如果当前键值不存在，则加入到字典。\n",
    "#         # 每个键值记录了当前类别出现的次数\n",
    "#         if currentLabel not in labelCounts.keys():\n",
    "#             labelCounts[currentLabel] = 0\n",
    "#         labelCounts[currentLabel] += 1\n",
    "        \n",
    "#         # 对于label的占比，求出当前label的信息熵\n",
    "#         shannonEnt = 0.0\n",
    "#         for key in labelCounts:\n",
    "#             prob = float(labelCounts[key]) / numEntries\n",
    "#             shannonEnt -= prob * log(prob, 2)\n",
    "    return shannonEnt"
   ]
  },
  {
   "cell_type": "markdown",
   "metadata": {},
   "source": [
    "测试信息熵计算函数"
   ]
  },
  {
   "cell_type": "code",
   "execution_count": 3,
   "metadata": {},
   "outputs": [],
   "source": [
    "def createDataSet():\n",
    "    dataSet = [[1, 1, 'yes'],\n",
    "               [1, 1, 'yes'],\n",
    "               [1, 0, 'no'],\n",
    "               [0, 1, 'no'],\n",
    "               [0, 1, 'no']]\n",
    "    labels = ['no surfacing', 'flippers']\n",
    "    return dataSet, labels"
   ]
  },
  {
   "cell_type": "code",
   "execution_count": 4,
   "metadata": {},
   "outputs": [
    {
     "data": {
      "text/plain": [
       "0.9709505944546686"
      ]
     },
     "execution_count": 4,
     "metadata": {},
     "output_type": "execute_result"
    }
   ],
   "source": [
    "myDat, labels = createDataSet()\n",
    "calcShannonEnt(myDat)"
   ]
  },
  {
   "cell_type": "markdown",
   "metadata": {},
   "source": [
    "## 2. 划分数据集"
   ]
  },
  {
   "cell_type": "markdown",
   "metadata": {},
   "source": [
    "splitDataSet的功能是当我们按照某个特征划分数据集时，将所有符合要求的样本抽取出来。并且将该特征从样本中剔除，从而可以进行下一步的特征提取。提取dataSet中所有值为value的第index个特征值。"
   ]
  },
  {
   "cell_type": "code",
   "execution_count": 5,
   "metadata": {},
   "outputs": [],
   "source": [
    "def splitDataSet(dataSet, index, value):\n",
    "    \"\"\"Split DataSet with index.\n",
    "    \n",
    "    Parameters\n",
    "    -----------\n",
    "    dataSet : Data for split.\n",
    "    index : Feature index of dataSet.\n",
    "    value : Feature value.\n",
    "    \n",
    "    Returns\n",
    "    -----------\n",
    "    index\n",
    "    \n",
    "    \"\"\"\n",
    "    \n",
    "#     dataSet = np.array(dataSet)\n",
    "    \n",
    "#     valueArr = dataSet[dataSet[:, index] == str(value)]\n",
    "#     retDataSet = np.delete(valueArr, index, axis=1)\n",
    "    \n",
    "    retDataSet = []\n",
    "    for featVec in dataSet:\n",
    "        \n",
    "        if featVec[index] == value:\n",
    "            reducedFeatVec = featVec[:index]\n",
    "            \n",
    "            reducedFeatVec.extend(featVec[index+1:])\n",
    "            retDataSet.append(reducedFeatVec)\n",
    "            \n",
    "    return retDataSet"
   ]
  },
  {
   "cell_type": "code",
   "execution_count": 6,
   "metadata": {},
   "outputs": [
    {
     "data": {
      "text/plain": [
       "[[1, 'no'], [1, 'no']]"
      ]
     },
     "execution_count": 6,
     "metadata": {},
     "output_type": "execute_result"
    }
   ],
   "source": [
    "splitDataSet(myDat, 0, 0)"
   ]
  },
  {
   "cell_type": "markdown",
   "metadata": {},
   "source": [
    "下面将遍历整个数据集，循环计算信息熵和splitDataSet函数，找到最好的特征划分。"
   ]
  },
  {
   "cell_type": "code",
   "execution_count": 7,
   "metadata": {},
   "outputs": [],
   "source": [
    "def chooseBestFeatureToSplit(dataSet):\n",
    "    \"\"\"\n",
    "    Returns\n",
    "    ---------\n",
    "    bestFeature : The best feature of dataset spliting.\n",
    "    \n",
    "    \"\"\"\n",
    "    \n",
    "    # 这里dataSet为二维数组，并不是numpy数组。\n",
    "    numFeatures = len(dataSet[0]) - 1\n",
    "    \n",
    "    baseEntropy = calcShannonEnt(dataSet)\n",
    "    bestInfoGain, bestFeature = 0.0, -1\n",
    "    \n",
    "    # 遍历所有的特征。\n",
    "    for i in range(numFeatures):\n",
    "        # 获取每个输入的第i个特征\n",
    "        featList = [example[i] for example in dataSet]\n",
    "        # 这一步使用集合方法去除重复项后就得到了特征所有可能的值。\n",
    "        uniqueVals = set(featList)\n",
    "        \n",
    "        newEntropy = 0.0\n",
    "        \n",
    "        for value in uniqueVals:\n",
    "            # 获取第i个特征中值为value的子集\n",
    "            subDataSet = splitDataSet(dataSet, i, value)\n",
    "            # 具有第i个特征的样本在总样本中占的比例\n",
    "            prob = len(subDataSet) / float(len(dataSet))\n",
    "            # 计算信息熵\n",
    "            newEntropy += prob * calcShannonEnt(subDataSet)\n",
    "        # 计算信息增益    \n",
    "        infoGain = baseEntropy - newEntropy\n",
    "        # 更新输出的最佳特征号\n",
    "        if (infoGain > bestInfoGain):\n",
    "            bestInfoGain = infoGain\n",
    "            bestFeature = i\n",
    "    \n",
    "    return bestFeature"
   ]
  },
  {
   "cell_type": "code",
   "execution_count": 8,
   "metadata": {},
   "outputs": [
    {
     "data": {
      "text/plain": [
       "0"
      ]
     },
     "execution_count": 8,
     "metadata": {},
     "output_type": "execute_result"
    }
   ],
   "source": [
    "chooseBestFeatureToSplit(myDat)"
   ]
  },
  {
   "cell_type": "markdown",
   "metadata": {},
   "source": [
    "## 3. 递归构建决策树\n",
    "递归结束的条件：程序遍历完所有划分数据集的属性，或者分支下的所有实例都具有相同的分类，如果所有实例具有相同的分类则得到一个叶子结点。<br>\n",
    "majorityCnt函数接受分类名称的列表，并存储每个类标签出现的频率，最后使用排序返回次数最多的类的名称。"
   ]
  },
  {
   "cell_type": "code",
   "execution_count": 1,
   "metadata": {},
   "outputs": [],
   "source": [
    "def majorityCnt(classList):\n",
    "    \"\"\"\n",
    "    Parameters\n",
    "    -----------\n",
    "    classList : label\n",
    "    \n",
    "    Returns\n",
    "    -----------\n",
    "    bestFeature : best feature list\n",
    "    \n",
    "    \"\"\"\n",
    "    \n",
    "#     classCount = {}\n",
    "#     for vote in classList:\n",
    "#         if vote not in classCount.keys():\n",
    "#             classCount[vote] = 0\n",
    "#         classCount[vote] += 1\n",
    "        \n",
    "#     sortedClassCount = sorted(classCount.items(), key = operator.itemgetter(1), reverse=True)\n",
    "#     return sortedClassCount[0][0]\n",
    "    # most_common方法返回列表中出现次数最多的元素以及出现次数，构成一个元组，这里返回的就是出现次数最多的元素\n",
    "    majorLabel = collections.Counter(classList).most_common(1)[0]\n",
    "    return majorLabel"
   ]
  },
  {
   "cell_type": "code",
   "execution_count": 10,
   "metadata": {},
   "outputs": [],
   "source": [
    "def createTree(dataSet, labels):\n",
    "    \"\"\"递归创建决策树\n",
    "    \n",
    "    Parameters\n",
    "    -----------\n",
    "    dataSet : Data Set.\n",
    "    labels : Labels of all feature.\n",
    "    \n",
    "    \"\"\"\n",
    "    classList = [example[-1] for example in dataSet]\n",
    "    \n",
    "    # 第一个停止条件：所有样本的类标签完全相同，直接返回类标签\n",
    "    # count返回对象出现的次数\n",
    "    if classList.count(classList[0]) == len(classList):\n",
    "        return classList[0]\n",
    "    \n",
    "    # 第二个停止条件：所有特征划分完毕，仍不能将数据集最终划分为只包含一个类别的分组\n",
    "    # 将出现次数最多的类别作为返回值\n",
    "    if len(dataSet[0]) == 1:\n",
    "        return majorityCnt(classList=ist)\n",
    "    \n",
    "    # 选取最优特征所在的列\n",
    "    bestFeat = chooseBestFeatureToSplit(dataSet)\n",
    "    # 获取最优特征，labels存储者所有的特征名称\n",
    "    bestFeatLabel = labels[bestFeat]\n",
    "    # 初始化myTree\n",
    "    myTree = {bestFeatLabel: {}}\n",
    "    # 从特征列表中剔除最优特征\n",
    "    del(labels[bestFeat])\n",
    "    # 取出最优列，然后使用它进行分类\n",
    "    featValues = [example[bestFeat] for example in dataSet]\n",
    "    uniqueVals = set(featValues)\n",
    "    for value in uniqueVals:\n",
    "        # 求出剩余的标签label\n",
    "        subLabels = labels[:]\n",
    "        # 遍历当前选择特征包含的所有属性值，在每个数据集上递归调用\n",
    "        myTree[bestFeatLabel][value] = createTree(splitDataSet(dataSet, bestFeat, value), subLabels)\n",
    "    \n",
    "    return myTree"
   ]
  },
  {
   "cell_type": "code",
   "execution_count": 11,
   "metadata": {},
   "outputs": [
    {
     "data": {
      "text/plain": [
       "{'no surfacing': {0: 'no', 1: {'flippers': {0: 'no', 1: 'yes'}}}}"
      ]
     },
     "execution_count": 11,
     "metadata": {},
     "output_type": "execute_result"
    }
   ],
   "source": [
    "myDat, labels = createDataSet()\n",
    "myTree = createTree(myDat, labels)\n",
    "myTree"
   ]
  },
  {
   "cell_type": "markdown",
   "metadata": {},
   "source": [
    "这里可以看到，第一个最优特征为'no surfacing'，是否可以浮出水面，取值为0，则可以浮出，不是鱼类；不能浮出接着判断第二个特征，是否有蹼，无蹼不是鱼类，有蹼是鱼类。"
   ]
  },
  {
   "cell_type": "markdown",
   "metadata": {},
   "source": [
    "## 4. 使用决策树进行分类"
   ]
  },
  {
   "cell_type": "code",
   "execution_count": 17,
   "metadata": {},
   "outputs": [],
   "source": [
    "def classify(inputTree, featLabels, testVec):\n",
    "    \"\"\"\n",
    "    Parameters\n",
    "    -----------\n",
    "    inputTree : Trained tree\n",
    "    featLabels : Name of feature\n",
    "    testVec : Test Input\n",
    "    \n",
    "    Returns\n",
    "    -----------\n",
    "    classLabel : Result of classification\n",
    "    \n",
    "    \"\"\"\n",
    "    \n",
    "    # 获取根结点对应的值，也就使第一个分类的特征。\n",
    "    firstStr = list(inputTree.keys())[0]\n",
    "    # 通过key得到根结点对应的value，也就是和根结点相连接的分支。\n",
    "    secondDict = inputTree[firstStr]\n",
    "    # 查找根结点所在特征在特征列表中的位置，对应到输入的测试向量中\n",
    "    featIndex = featLabels.index(firstStr)\n",
    "    \n",
    "    key = testVec[featIndex]\n",
    "    valueOfFeat = secondDict[key]\n",
    "    print('+++', firstStr, 'xxx', secondDict, '---', key, '>>>', valueOfFeat)\n",
    "    if isinstance(valueOfFeat, dict):\n",
    "        classLabel = classify(valueOfFeat, featLabels, testVec)\n",
    "    else:\n",
    "        classLabel = valueOfFeat\n",
    "    return classLabel    "
   ]
  },
  {
   "cell_type": "code",
   "execution_count": 14,
   "metadata": {},
   "outputs": [
    {
     "data": {
      "text/plain": [
       "[[1, 1, 'yes'], [1, 1, 'yes'], [1, 0, 'no'], [0, 1, 'no'], [0, 1, 'no']]"
      ]
     },
     "execution_count": 14,
     "metadata": {},
     "output_type": "execute_result"
    }
   ],
   "source": [
    "myDat, labels = createDataSet()\n",
    "myDat"
   ]
  },
  {
   "cell_type": "code",
   "execution_count": 13,
   "metadata": {},
   "outputs": [
    {
     "data": {
      "text/plain": [
       "{'no surfacing': {0: 'no', 1: {'flippers': {0: 'no', 1: 'yes'}}}}"
      ]
     },
     "execution_count": 13,
     "metadata": {},
     "output_type": "execute_result"
    }
   ],
   "source": [
    "myTree"
   ]
  },
  {
   "cell_type": "code",
   "execution_count": 18,
   "metadata": {},
   "outputs": [
    {
     "name": "stdout",
     "output_type": "stream",
     "text": [
      "+++ no surfacing xxx {0: 'no', 1: {'flippers': {0: 'no', 1: 'yes'}}} --- 1 >>> {'flippers': {0: 'no', 1: 'yes'}}\n",
      "+++ flippers xxx {0: 'no', 1: 'yes'} --- 0 >>> no\n"
     ]
    },
    {
     "data": {
      "text/plain": [
       "'no'"
      ]
     },
     "execution_count": 18,
     "metadata": {},
     "output_type": "execute_result"
    }
   ],
   "source": [
    "classify(myTree, labels, [1, 0])"
   ]
  },
  {
   "cell_type": "code",
   "execution_count": 19,
   "metadata": {},
   "outputs": [
    {
     "name": "stdout",
     "output_type": "stream",
     "text": [
      "+++ no surfacing xxx {0: 'no', 1: {'flippers': {0: 'no', 1: 'yes'}}} --- 1 >>> {'flippers': {0: 'no', 1: 'yes'}}\n",
      "+++ flippers xxx {0: 'no', 1: 'yes'} --- 1 >>> yes\n"
     ]
    },
    {
     "data": {
      "text/plain": [
       "'yes'"
      ]
     },
     "execution_count": 19,
     "metadata": {},
     "output_type": "execute_result"
    }
   ],
   "source": [
    "classify(myTree, labels, [1, 1])"
   ]
  },
  {
   "cell_type": "markdown",
   "metadata": {},
   "source": [
    "### 存储决策树"
   ]
  },
  {
   "cell_type": "code",
   "execution_count": 24,
   "metadata": {},
   "outputs": [],
   "source": [
    "# coding=utf-8\n",
    "def storeTree(inputTree, filename):\n",
    "    import pickle\n",
    "    fw = open(filename, 'wb')\n",
    "    pickle.dump(inputTree, fw)\n",
    "    fw.close()\n",
    "\n",
    "def grabTree(filename):\n",
    "    import pickle\n",
    "    fr = open(filename)\n",
    "    return pickle.load(fr)"
   ]
  },
  {
   "cell_type": "code",
   "execution_count": 25,
   "metadata": {},
   "outputs": [],
   "source": [
    "storeTree(myTree, 'classifierStorage.txt')"
   ]
  },
  {
   "cell_type": "markdown",
   "metadata": {},
   "source": [
    "### 使用隐形眼镜数据测试算法"
   ]
  },
  {
   "cell_type": "code",
   "execution_count": 27,
   "metadata": {},
   "outputs": [],
   "source": [
    "fr = open('lenses.txt')"
   ]
  },
  {
   "cell_type": "code",
   "execution_count": 28,
   "metadata": {},
   "outputs": [
    {
     "data": {
      "text/plain": [
       "{'tearRate': {'reduced': 'no lenses',\n",
       "  'normal': {'astigmatic': {'no': {'age': {'young': 'soft',\n",
       "      'pre': 'soft',\n",
       "      'presbyopic': {'prescript': {'myope': 'no lenses', 'hyper': 'soft'}}}},\n",
       "    'yes': {'prescript': {'myope': 'hard',\n",
       "      'hyper': {'age': {'young': 'hard',\n",
       "        'pre': 'no lenses',\n",
       "        'presbyopic': 'no lenses'}}}}}}}}"
      ]
     },
     "execution_count": 28,
     "metadata": {},
     "output_type": "execute_result"
    }
   ],
   "source": [
    "lenses = [inst.strip().split('\\t') for inst in fr.readlines()]\n",
    "lensesLabels = ['age', 'prescript', 'astigmatic', 'tearRate']\n",
    "lensesTree = createTree(lenses, lensesLabels)\n",
    "lensesTree"
   ]
  },
  {
   "cell_type": "markdown",
   "metadata": {},
   "source": [
    "# Sklearn实现"
   ]
  },
  {
   "cell_type": "markdown",
   "metadata": {},
   "source": [
    "## 1. 分类树"
   ]
  },
  {
   "cell_type": "code",
   "execution_count": 35,
   "metadata": {},
   "outputs": [],
   "source": [
    "import numpy as np\n",
    "import matplotlib.pyplot as plt\n",
    "from sklearn.datasets import load_iris\n",
    "from sklearn.tree import DecisionTreeClassifier\n",
    "from sklearn.tree import DecisionTreeRegressor"
   ]
  },
  {
   "cell_type": "code",
   "execution_count": 32,
   "metadata": {},
   "outputs": [],
   "source": [
    "n_classes = 3\n",
    "plot_colors = 'bry'\n",
    "plot_step = 0.02\n",
    "iris = load_iris()"
   ]
  },
  {
   "cell_type": "code",
   "execution_count": 34,
   "metadata": {
    "scrolled": true
   },
   "outputs": [
    {
     "data": {
      "image/png": "[encoded data removed]",
      "text/plain": [
       "<Figure size 432x288 with 6 Axes>"
      ]
     },
     "metadata": {},
     "output_type": "display_data"
    }
   ],
   "source": [
    "for pairidx, pair in enumerate([[0, 1], [0, 2], [0, 3], [1, 2], [1, 3], [2, 3]]):\n",
    "    X = iris.data[:, pair]\n",
    "    y = iris.target\n",
    "    \n",
    "    clf =DecisionTreeClassifier().fit(X, y)\n",
    "    \n",
    "    plt.subplot(2, 3, pairidx + 1)\n",
    "    x_min, x_max = X[:, 0].min() - 1, X[:, 0].max() + 1\n",
    "    y_min, y_max = X[:, 1].min() - 1, X[:, 1].max() + 1\n",
    "    xx, yy = np.meshgrid(np.arange(x_min, x_max, plot_step),\n",
    "                         np.arange(y_min, y_max, plot_step))\n",
    "    \n",
    "    Z = clf.predict(np.c_[xx.ravel(), yy.ravel()])\n",
    "    Z = Z.reshape(xx.shape)\n",
    "    cs = plt.contourf(xx, yy, Z, cmap=plt.cm.Paired)\n",
    "    \n",
    "    plt.xlabel(iris.feature_names[pair[0]])\n",
    "    plt.ylabel(iris.feature_names[pair[1]])\n",
    "    \n",
    "    plt.axis('tight')\n",
    "    \n",
    "    for i, color in zip(range(n_classes), plot_colors):\n",
    "        idx = np.where(y == i)\n",
    "        plt.scatter(X[idx, 0], X[idx, 1], c=color, label=iris.target_names[i], \n",
    "                    cmap=plt.cm.Paired)\n",
    "        \n",
    "    plt.axis('tight')\n",
    "    \n",
    "plt.suptitle(\"Decision surface of a decision tree using paired features\")\n",
    "plt.legend()\n",
    "plt.show()"
   ]
  },
  {
   "cell_type": "markdown",
   "metadata": {},
   "source": [
    "## 2. 回归树 "
   ]
  },
  {
   "cell_type": "code",
   "execution_count": 39,
   "metadata": {},
   "outputs": [
    {
     "data": {
      "text/plain": [
       "(array([[0.00057187],\n",
       "        [0.09144139],\n",
       "        [0.09683479],\n",
       "        [0.13693797],\n",
       "        [0.19527392],\n",
       "        [0.24976729],\n",
       "        [0.26681273],\n",
       "        [0.42522106],\n",
       "        [0.46169297],\n",
       "        [0.49173417]]),\n",
       " array([-1.1493464 ,  0.09131401,  0.09668352,  0.13651039,  0.19403525,\n",
       "        -0.12383814,  0.26365828,  0.41252216,  0.44546446,  0.47215529]))"
      ]
     },
     "execution_count": 39,
     "metadata": {},
     "output_type": "execute_result"
    }
   ],
   "source": [
    "rng = np.random.RandomState(1)\n",
    "X = np.sort(5 * rng.rand(80, 1), axis=0)\n",
    "y = np.sin(X).ravel()\n",
    "y[::5] += 3 * (0.5 - rng.rand(16))\n",
    "X[:10], y[:10]"
   ]
  },
  {
   "cell_type": "code",
   "execution_count": 40,
   "metadata": {},
   "outputs": [
    {
     "data": {
      "text/plain": [
       "DecisionTreeRegressor(criterion='mse', max_depth=None, max_features=None,\n",
       "           max_leaf_nodes=None, min_impurity_decrease=0.0,\n",
       "           min_impurity_split=None, min_samples_leaf=6,\n",
       "           min_samples_split=2, min_weight_fraction_leaf=0.0,\n",
       "           presort=False, random_state=None, splitter='best')"
      ]
     },
     "execution_count": 40,
     "metadata": {},
     "output_type": "execute_result"
    }
   ],
   "source": [
    "regr_2 = DecisionTreeRegressor(max_depth=5)\n",
    "regr_2 = DecisionTreeRegressor(min_samples_leaf=6)\n",
    "regr_2.fit(X, y)"
   ]
  },
  {
   "cell_type": "code",
   "execution_count": 43,
   "metadata": {},
   "outputs": [
    {
     "data": {
      "text/plain": [
       "array([0.05236068, 0.05236068, 0.05236068, 0.05236068, 0.05236068,\n",
       "       0.05236068, 0.05236068, 0.05236068, 0.05236068, 0.05236068])"
      ]
     },
     "execution_count": 43,
     "metadata": {},
     "output_type": "execute_result"
    }
   ],
   "source": [
    "X_test = np.arange(0.0, 5.0, 0.01)[:, np.newaxis]\n",
    "y_2 = regr_2.predict(X_test)\n",
    "y_2[:10]"
   ]
  },
  {
   "cell_type": "code",
   "execution_count": 44,
   "metadata": {},
   "outputs": [
    {
     "data": {
      "image/png": "[encoded data removed]",
      "text/plain": [
       "<Figure size 432x288 with 1 Axes>"
      ]
     },
     "metadata": {},
     "output_type": "display_data"
    }
   ],
   "source": [
    "plt.figure()\n",
    "plt.scatter(X, y, c=\"darkorange\", label=\"data\")\n",
    "plt.plot(X_test, y_2, color=\"yellowgreen\", label=\"max_depth=5\", linewidth=2)\n",
    "plt.xlabel(\"data\")\n",
    "plt.ylabel(\"target\")\n",
    "plt.title(\"Decision Tree Regression\")\n",
    "plt.legend()\n",
    "plt.show()"
   ]
  },
  {
   "cell_type": "code",
   "execution_count": null,
   "metadata": {},
   "outputs": [],
   "source": []
  }
 ],
 "metadata": {
  "kernelspec": {
   "display_name": "Python 3",
   "language": "python",
   "name": "python3"
  },
  "language_info": {
   "codemirror_mode": {
    "name": "ipython",
    "version": 3
   },
   "file_extension": ".py",
   "mimetype": "text/x-python",
   "name": "python",
   "nbconvert_exporter": "python",
   "pygments_lexer": "ipython3",
   "version": "3.6.5"
  }
 },
 "nbformat": 4,
 "nbformat_minor": 2
}
