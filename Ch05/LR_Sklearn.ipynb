{
 "cells": [
  {
   "cell_type": "markdown",
   "metadata": {},
   "source": [
    "# 逻辑回归Sklearn实现"
   ]
  },
  {
   "cell_type": "code",
   "execution_count": 2,
   "metadata": {},
   "outputs": [],
   "source": [
    "import numpy as np\n",
    "import matplotlib.pyplot as plt\n",
    "from sklearn.linear_model import LogisticRegression\n",
    "from sklearn import datasets\n",
    "from sklearn.preprocessing import StandardScaler"
   ]
  },
  {
   "cell_type": "markdown",
   "metadata": {},
   "source": [
    "## 1. 逻辑回归中的L1正则化和稀疏性\n",
    "通过对比使用不同的正则化参数得到的权重矩阵，来确定其稀疏性，也就是权重矩阵中值为0的权重数量。"
   ]
  },
  {
   "cell_type": "code",
   "execution_count": 4,
   "metadata": {},
   "outputs": [
    {
     "data": {
      "text/plain": [
       "(array([[ 0.        , -0.33501649, -0.04308102, ..., -1.14664746,\n",
       "         -0.5056698 , -0.19600752],\n",
       "        [ 0.        , -0.33501649, -1.09493684, ...,  0.54856067,\n",
       "         -0.5056698 , -0.19600752],\n",
       "        [ 0.        , -0.33501649, -1.09493684, ...,  1.56568555,\n",
       "          1.6951369 , -0.19600752],\n",
       "        ...,\n",
       "        [ 0.        , -0.33501649, -0.88456568, ..., -0.12952258,\n",
       "         -0.5056698 , -0.19600752],\n",
       "        [ 0.        , -0.33501649, -0.67419451, ...,  0.8876023 ,\n",
       "         -0.5056698 , -0.19600752],\n",
       "        [ 0.        , -0.33501649,  1.00877481, ...,  0.8876023 ,\n",
       "         -0.26113572, -0.19600752]]), array([0, 0, 0, ..., 1, 1, 1]))"
      ]
     },
     "execution_count": 4,
     "metadata": {},
     "output_type": "execute_result"
    }
   ],
   "source": [
    "# 加载sklearn中的手写数字数据集\n",
    "digits = datasets.load_digits()\n",
    "# 获取特征和类别标签\n",
    "X, y = digits.data, digits.target\n",
    "# 归一化参数\n",
    "X = StandardScaler().fit_transform(X)\n",
    "# 为了做二分类而不是多分类，将数字以4为分界点分为正反两个部分\n",
    "y = (y > 4).astype(np.int)\n",
    "X, y"
   ]
  },
  {
   "cell_type": "code",
   "execution_count": 13,
   "metadata": {},
   "outputs": [
    {
     "name": "stdout",
     "output_type": "stream",
     "text": [
      "C = 100.00\n",
      "Sparsity with L1 penalty: 6.25%\n",
      "score with L1 penalty: 0.9104\n",
      "Sparsity with L2 penalty: 4.69%\n",
      "score with L2 penalty: 0.9098\n"
     ]
    },
    {
     "data": {
      "image/png": "[encoded data removed]",
      "text/plain": [
       "<Figure size 432x288 with 2 Axes>"
      ]
     },
     "metadata": {},
     "output_type": "display_data"
    },
    {
     "name": "stdout",
     "output_type": "stream",
     "text": [
      "C = 1.00\n",
      "Sparsity with L1 penalty: 9.38%\n",
      "score with L1 penalty: 0.9104\n",
      "Sparsity with L2 penalty: 4.69%\n",
      "score with L2 penalty: 0.9093\n"
     ]
    },
    {
     "data": {
      "image/png": "[encoded data removed]",
      "text/plain": [
       "<Figure size 432x288 with 2 Axes>"
      ]
     },
     "metadata": {},
     "output_type": "display_data"
    },
    {
     "name": "stdout",
     "output_type": "stream",
     "text": [
      "C = 0.01\n",
      "Sparsity with L1 penalty: 85.94%\n",
      "score with L1 penalty: 0.8625\n",
      "Sparsity with L2 penalty: 4.69%\n",
      "score with L2 penalty: 0.8915\n"
     ]
    },
    {
     "data": {
      "image/png": "[encoded data removed]",
      "text/plain": [
       "<Figure size 432x288 with 2 Axes>"
      ]
     },
     "metadata": {},
     "output_type": "display_data"
    }
   ],
   "source": [
    "for i, C in enumerate((100, 1, 0.01)):\n",
    "    # 设置正则化参数C（也就是1 / lambda)，tol为停止条件\n",
    "    # C过大欠拟合，C过小过拟合\n",
    "    clf_l1_LR = LogisticRegression(C = C, penalty='l1', tol=0.01)\n",
    "    clf_l2_LR = LogisticRegression(C = C, penalty='l2', tol=0.01)\n",
    "    clf_l1_LR.fit(X, y)\n",
    "    clf_l2_LR.fit(X, y)\n",
    "    \n",
    "    # 得到l1正则和l2正则的系数向量\n",
    "    coef_l1_LR = clf_l1_LR.coef_.ravel()\n",
    "    coef_l2_LR = clf_l2_LR.coef_.ravel()\n",
    "    \n",
    "    # 解的稀疏度\n",
    "    sparsity_l1_LR = np.mean(coef_l1_LR == 0) * 100\n",
    "    sparsity_l2_LR = np.mean(coef_l2_LR == 0) * 100\n",
    "    print(\"C = %.2f\" % C)\n",
    "    print(\"Sparsity with L1 penalty: %.2f%%\" % sparsity_l1_LR)\n",
    "    print(\"score with L1 penalty: %.4f\" % clf_l1_LR.score(X, y))\n",
    "    print(\"Sparsity with L2 penalty: %.2f%%\" % sparsity_l2_LR)\n",
    "    print(\"score with L2 penalty: %.4f\" % clf_l2_LR.score(X, y))\n",
    "    \n",
    "    # 绘制不同正则化参数下的图像\n",
    "    l1_plot = plt.subplot(3, 2, 2*i + 1)\n",
    "    l2_plot = plt.subplot(3, 2, 2*(i + 1))\n",
    "    if i == 0:\n",
    "        l1_plot.set_title(\"L1 Penalty\")\n",
    "        l2_plot.set_title(\"L2 Penalty\")\n",
    "    # imshow绘制热图，这里显示非零的色块占比\n",
    "    l1_plot.imshow(np.abs(coef_l1_LR.reshape(8, 8)), interpolation='nearest',\n",
    "                   cmap='binary', vmax=1, vmin=0)\n",
    "    l2_plot.imshow(np.abs(coef_l2_LR.reshape(8, 8)), interpolation='nearest',\n",
    "                   cmap='binary', vmax=1, vmin=0)\n",
    "    # text方法两个参数调整后面输出文字的位置，-11调整左右位置，4调整上下位置\n",
    "    plt.text(-11, 4, \"C = %.2f\" % C)\n",
    "    l1_plot.set_xticks(())\n",
    "    l1_plot.set_yticks(())\n",
    "    l2_plot.set_xticks(())\n",
    "    l2_plot.set_yticks(())\n",
    "    plt.show()"
   ]
  },
  {
   "cell_type": "markdown",
   "metadata": {},
   "source": [
    "从上面输出结果可以看出，当C较小时，权重矩阵比较稀疏，也就是为0的项较多，模型欠拟合。相反，模型过拟合。"
   ]
  },
  {
   "cell_type": "markdown",
   "metadata": {},
   "source": [
    "## 2. L1正则逻辑回归的路径"
   ]
  },
  {
   "cell_type": "code",
   "execution_count": 15,
   "metadata": {},
   "outputs": [],
   "source": [
    "from datetime import datetime\n",
    "\n",
    "from sklearn import linear_model\n",
    "from sklearn.svm import l1_min_c"
   ]
  },
  {
   "cell_type": "code",
   "execution_count": 17,
   "metadata": {},
   "outputs": [
    {
     "data": {
      "text/plain": [
       "(array([[-0.371,  0.406, -1.462, -0.585],\n",
       "        [-0.571, -0.094, -1.462, -0.585],\n",
       "        [-0.771,  0.106, -1.562, -0.585]]), array([0, 0, 0]))"
      ]
     },
     "execution_count": 17,
     "metadata": {},
     "output_type": "execute_result"
    }
   ],
   "source": [
    "# 使用iris数据集\n",
    "iris = datasets.load_iris()\n",
    "X, y = iris.data, iris.target\n",
    "X = X[y != 2]\n",
    "y = y[y != 2]\n",
    "X -= np.mean(X, 0)\n",
    "X[:3], y[:3]"
   ]
  },
  {
   "cell_type": "code",
   "execution_count": 19,
   "metadata": {},
   "outputs": [],
   "source": [
    "# l1_min_c返回最小的C使得模型不为空\n",
    "# 这里创建了50个递进的C值。logspace默认的长度为50\n",
    "cs = l1_min_c(X, y, loss='log') * np.logspace(0, 3)"
   ]
  },
  {
   "cell_type": "code",
   "execution_count": 20,
   "metadata": {},
   "outputs": [
    {
     "name": "stdout",
     "output_type": "stream",
     "text": [
      "Computing regularization path ...\n",
      "This took  0:00:00.023345\n"
     ]
    },
    {
     "data": {
      "image/png": "[encoded data removed]",
      "text/plain": [
       "<Figure size 432x288 with 1 Axes>"
      ]
     },
     "metadata": {},
     "output_type": "display_data"
    }
   ],
   "source": [
    "print(\"Computing regularization path ...\")\n",
    "start = datetime.now()\n",
    "clf = linear_model.LogisticRegression(C=1.0, penalty='l1', tol=1e-6)\n",
    "coefs_ = []\n",
    "for c in cs:\n",
    "    clf.set_params(C=c)\n",
    "    clf.fit(X, y)\n",
    "    coefs_.append(clf.coef_.ravel().copy())\n",
    "# 计算运行时间\n",
    "print(\"This took \", datetime.now() - start)\n",
    "coefs_ = np.array(coefs_)\n",
    "plt.plot(np.log10(cs), coefs_)\n",
    "ymin, ymax = plt.ylim()\n",
    "plt.xlabel('log(C)')\n",
    "plt.ylabel('Coefficients')\n",
    "plt.title('Logistic Regression Path')\n",
    "plt.axis('tight')\n",
    "plt.show()"
   ]
  },
  {
   "cell_type": "code",
   "execution_count": null,
   "metadata": {},
   "outputs": [],
   "source": []
  }
 ],
 "metadata": {
  "kernelspec": {
   "display_name": "Python 3",
   "language": "python",
   "name": "python3"
  },
  "language_info": {
   "codemirror_mode": {
    "name": "ipython",
    "version": 3
   },
   "file_extension": ".py",
   "mimetype": "text/x-python",
   "name": "python",
   "nbconvert_exporter": "python",
   "pygments_lexer": "ipython3",
   "version": "3.6.5"
  }
 },
 "nbformat": 4,
 "nbformat_minor": 2
}
