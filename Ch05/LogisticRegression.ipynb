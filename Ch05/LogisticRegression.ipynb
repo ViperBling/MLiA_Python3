{
 "cells": [
  {
   "cell_type": "markdown",
   "metadata": {},
   "source": [
    "# Logistic Regression\n",
    "逻辑回归的优缺点\n",
    "> 优点：计算代价不高,易于理解和实现。<br>\n",
    "> 缺点：容易欠拟合,分类精度可能不高。<br>\n",
    "> 适用数据类型：数值型和标称型数据。\n",
    "\n",
    "逻辑回归的一般过程\n",
    "> 1. 收集数据:采用任意方法收集数据。\n",
    "> 2. 准备数据:由于需要进行距离计算,因此要求数据类型为数值型。另外,结构化数据格式则最佳。\n",
    "> 3. 分析数据:采用任意方法对数据进行分析。\n",
    "> 4. 训练算法:大部分时间将用于训练,训练的目的是为了找到最佳的分类回归系数。\n",
    "> 5. 测试算法:一旦训练步骤完成,分类将会很快。\n",
    "> 6. 使用算法:首先,我们需要输入一些数据,并将其转换成对应的结构化数值;接着,基于训练好的回归系数就可以对这些数值进行简单的回归计算,判定它们属于哪个类别;在这之后,我们就可以在输出的类别上做一些其他分析工作。"
   ]
  },
  {
   "cell_type": "markdown",
   "metadata": {},
   "source": [
    "## 1. 使用梯度上升方法最优化参数"
   ]
  },
  {
   "cell_type": "code",
   "execution_count": 7,
   "metadata": {},
   "outputs": [],
   "source": [
    "import numpy as np\n",
    "import matplotlib.pyplot as plt"
   ]
  },
  {
   "cell_type": "markdown",
   "metadata": {},
   "source": [
    "### a. 梯度上升算法"
   ]
  },
  {
   "cell_type": "code",
   "execution_count": 24,
   "metadata": {},
   "outputs": [],
   "source": [
    "def loadDataSet():\n",
    "    dataMat = []; labelMat = []\n",
    "    fr = open('testSet.txt')\n",
    "    for line in fr.readlines():\n",
    "        lineArr = line.strip().split()\n",
    "        dataMat.append([1.0, float(lineArr[0]), float(lineArr[1])])\n",
    "        labelMat.append(int(lineArr[2]))\n",
    "    return dataMat, labelMat\n",
    "\n",
    "def sigmoid(inX):\n",
    "    return 1.0 / (1 + np.exp(-inX))\n",
    "\n",
    "def gradAscent(dataMatIn, classLabels):\n",
    "    \"\"\"梯度上升\"\"\"\n",
    "    \n",
    "    # 将传入的数组转化成numpy数组\n",
    "    dataMatrix = np.mat(dataMatIn)\n",
    "    labelMat = np.mat(classLabels).T\n",
    "    m, n = np.shape(dataMatrix)\n",
    "    alpha = 0.001\n",
    "    maxCycles = 500\n",
    "    # 初始化权重参数矩阵\n",
    "    weights = np.ones((n, 1))\n",
    "    # 执行梯度上升\n",
    "    for k in range(maxCycles):\n",
    "        h = sigmoid(dataMatrix @ weights)\n",
    "        error = labelMat - h\n",
    "        weights = weights + alpha * dataMatrix.T * error\n",
    "    return weights"
   ]
  },
  {
   "cell_type": "code",
   "execution_count": 25,
   "metadata": {},
   "outputs": [
    {
     "data": {
      "text/plain": [
       "([[1.0, -0.017612, 14.053064],\n",
       "  [1.0, -1.395634, 4.662541],\n",
       "  [1.0, -0.752157, 6.53862]],\n",
       " [0, 1, 0])"
      ]
     },
     "execution_count": 25,
     "metadata": {},
     "output_type": "execute_result"
    }
   ],
   "source": [
    "dataArr, labelMat = loadDataSet()\n",
    "dataArr[:3], labelMat[:3]"
   ]
  },
  {
   "cell_type": "code",
   "execution_count": 26,
   "metadata": {},
   "outputs": [
    {
     "data": {
      "text/plain": [
       "matrix([[ 4.12414349],\n",
       "        [ 0.48007329],\n",
       "        [-0.6168482 ]])"
      ]
     },
     "execution_count": 26,
     "metadata": {},
     "output_type": "execute_result"
    }
   ],
   "source": [
    "weights = gradAscent(dataArr, labelMat)\n",
    "weights"
   ]
  },
  {
   "cell_type": "markdown",
   "metadata": {},
   "source": [
    "## b. 绘制决策边界"
   ]
  },
  {
   "cell_type": "code",
   "execution_count": 27,
   "metadata": {},
   "outputs": [],
   "source": [
    "def plotBestFit(weights):\n",
    "    \"\"\"绘制数据样本和决策边界\"\"\"\n",
    "    \n",
    "    weights = np.array(weights)\n",
    "    dataMat, labelMat = loadDataSet()\n",
    "    dataArr = np.array(dataMat)\n",
    "    n = dataArr.shape[0]     # 样本数量\n",
    "    xcord1 = []; ycord1 = []\n",
    "    xcord2 = []; ycord2 = []\n",
    "    # 正反样本分离\n",
    "    for i in range(n):\n",
    "        if int(labelMat[i]) == 1:\n",
    "            xcord1.append(dataArr[i, 1]); ycord1.append(dataArr[i, 2])\n",
    "        else:\n",
    "            xcord2.append(dataArr[i, 1]); ycord2.append(dataArr[i, 2])\n",
    "    # 绘制散点图\n",
    "    fig = plt.figure(figsize=(8, 6))\n",
    "    ax = fig.add_subplot(111)\n",
    "    ax.scatter(xcord1, ycord1, s=30, c='red', marker='s')\n",
    "    ax.scatter(xcord2, ycord2, s=30, c='blue')\n",
    "    # 绘制决策边界\n",
    "    x = np.arange(-3.0, 3.0, 0.1)\n",
    "    y = (-weights[0] - weights[1] * x) / weights[2]\n",
    "    ax.plot(x, y)\n",
    "    plt.xlabel('X1'); plt.ylabel('X2')\n",
    "    plt.show()"
   ]
  },
  {
   "cell_type": "code",
   "execution_count": 33,
   "metadata": {},
   "outputs": [
    {
     "data": {
      "image/png": "[encoded data removed]",
      "text/plain": [
       "<Figure size 576x432 with 1 Axes>"
      ]
     },
     "metadata": {},
     "output_type": "display_data"
    }
   ],
   "source": [
    "plotBestFit(weights)"
   ]
  },
  {
   "cell_type": "markdown",
   "metadata": {},
   "source": [
    "## 2. 随机梯度上升\n",
    "为了使算法适应大量样本的情形，使用随机梯度上升的方法，也成为在线学习，一次仅使用一个样本参与训练。<br>\n",
    "原始的随机梯度上升算法如下，只使用一个样本点来更新参数："
   ]
  },
  {
   "cell_type": "code",
   "execution_count": 30,
   "metadata": {},
   "outputs": [],
   "source": [
    "def stocGradAscent0(dataMatrix, classLabels):\n",
    "    m, n = np.shape(dataMatrix)\n",
    "    alpha = 0.01\n",
    "    weights = np.ones(n)\n",
    "    for i in range(m):\n",
    "        h = sigmoid(sum(dataMatrix[i] * weights))\n",
    "        error = classLabels[i] - h\n",
    "        weights = weights + alpha * error * dataMatrix[i]\n",
    "    return weights"
   ]
  },
  {
   "cell_type": "code",
   "execution_count": 34,
   "metadata": {},
   "outputs": [
    {
     "data": {
      "text/plain": [
       "array([ 1.01702007,  0.85914348, -0.36579921])"
      ]
     },
     "execution_count": 34,
     "metadata": {},
     "output_type": "execute_result"
    }
   ],
   "source": [
    "wei = stocGradAscent0(np.array(dataArr), labelMat)\n",
    "wei"
   ]
  },
  {
   "cell_type": "code",
   "execution_count": 35,
   "metadata": {},
   "outputs": [
    {
     "data": {
      "image/png": "[encoded data removed]",
      "text/plain": [
       "<Figure size 576x432 with 1 Axes>"
      ]
     },
     "metadata": {},
     "output_type": "display_data"
    }
   ],
   "source": [
    "plotBestFit(wei)"
   ]
  },
  {
   "cell_type": "markdown",
   "metadata": {},
   "source": [
    "从上图可以看出，一次只迭代一个样本点，遍历整个数据集后得到的结果确实不如将整个数据集迭代500次得到的结果。<br>\n",
    "为了加快避免权重在迭代过程中的波动和加快收敛速度，我们将算法重复执行一定次数，并且在执行过程中修改参数alpha以加速收敛。"
   ]
  },
  {
   "cell_type": "code",
   "execution_count": 36,
   "metadata": {},
   "outputs": [],
   "source": [
    "def stocGradAscent1(dataMatrix, classLabels, numIter = 150):\n",
    "    \"\"\"改进版的随机梯度上升算法\n",
    "    使用随机的一个样本来更新回归系数，并将算法重复执行numIter次。\n",
    "    \"\"\"\n",
    "    m, n = dataMatrix.shape\n",
    "    weights = np.ones(n)\n",
    "    for j in range(numIter):\n",
    "        dataIndex = list(range(m))\n",
    "        for i in range(m):\n",
    "            # alpha随着每次迭代值都会变小，但不会为0\n",
    "            alpha = 4 / (1.0 + j + i) + 0.01\n",
    "            randIndex = int(np.random.uniform(0, len(dataIndex)))\n",
    "            h = sigmoid(np.sum(dataMatrix[randIndex] * weights))\n",
    "            error = classLabels[randIndex] - h\n",
    "            weights = weights + alpha * error * dataMatrix[randIndex]\n",
    "            del(dataIndex[randIndex])\n",
    "    return weights"
   ]
  },
  {
   "cell_type": "code",
   "execution_count": 37,
   "metadata": {},
   "outputs": [
    {
     "name": "stdout",
     "output_type": "stream",
     "text": [
      "[14.50132111  1.21165179 -2.29000353]\n"
     ]
    },
    {
     "data": {
      "image/png": "[encoded data removed]",
      "text/plain": [
       "<Figure size 576x432 with 1 Axes>"
      ]
     },
     "metadata": {},
     "output_type": "display_data"
    }
   ],
   "source": [
    "weights = stocGradAscent1(np.array(dataArr), labelMat)\n",
    "print(weights)\n",
    "plotBestFit(weights)"
   ]
  },
  {
   "cell_type": "markdown",
   "metadata": {},
   "source": [
    "从图中可以看出得到了一个和批量梯度上升差不多的结果，但是随机梯度上升使用的计算量更少。"
   ]
  },
  {
   "cell_type": "markdown",
   "metadata": {},
   "source": [
    "## 3. 使用逻辑回归从疝气病症预测病马的死亡率\n",
    "> 1. 收集数据:给定数据文件。\n",
    "> 2. 准备数据:用Python解析文本文件并填充缺失值。\n",
    "> 3. 分析数据:可视化并观察数据。\n",
    "> 4. 训练算法:使用优化算法,找到最佳的系数。\n",
    "> 5. 测试算法:为了量化回归的效果,需要观察错误率。根据错误率决定是否回退到训练阶段,通过改变迭代的次数和步长等参数来得到更好的回归系数。\n",
    "> 6. 使用算法:实现一个简单的命令行程序来收集马的症状并输出预测结果。"
   ]
  },
  {
   "cell_type": "markdown",
   "metadata": {},
   "source": [
    "这里使用的数据是经过处理的，原始数据中有缺失值。这里对特征丢失的样本，将缺失特征置为0，对标签丢失的样本直接丢弃。<br>\n",
    "常用的缺失值处理方法：\n",
    "> 1. 使用可用特征的均值来填补缺失值;\n",
    "> 2. 使用特殊值来填补缺失值,如1;\n",
    "> 3. 忽略有缺失值的样本;\n",
    "> 4. 使用相似样本的均值添补缺失值;\n",
    "> 5. 使用另外的机器学习算法预测缺失值。"
   ]
  },
  {
   "cell_type": "code",
   "execution_count": 49,
   "metadata": {},
   "outputs": [],
   "source": [
    "def classifyVector(inX, weights):\n",
    "    \"\"\"分类函数，根据输出的概率判定类别\"\"\"\n",
    "    prob = sigmoid(np.sum(inX * weights))\n",
    "    if prob > 0.5: return 1.0\n",
    "    else: return 0.0\n",
    "    \n",
    "def colicTest():\n",
    "    frTrain = open('horseColicTraining.txt')\n",
    "    frTest = open('horseColicTest.txt')\n",
    "    trainingSet = []; trainingLabels = []\n",
    "    # 解析训练集中的特征，trainingSet中存储特征值，trainingLabels中存储标签\n",
    "    for line in frTrain.readlines():\n",
    "        # currLine: 所有特征列表\n",
    "        currLine = line.strip().split('\\t')\n",
    "        lineArr = []\n",
    "        for i in range(21):    # 20为特征数目，最后一列为分类标签\n",
    "            lineArr.append(float(currLine[i]))\n",
    "        # 将每个样本的特征值加入到训练集中\n",
    "        trainingSet.append(lineArr)\n",
    "        trainingLabels.append(float(currLine[21]))\n",
    "    # 执行500次随机梯度下降\n",
    "    trainWeights = stocGradAscent1(np.array(trainingSet), trainingLabels, 500)\n",
    "    errorCount = 0; numTestVec = 0.0\n",
    "    # 使用测试集进行测试\n",
    "    for line in frTest.readlines():\n",
    "        numTestVec += 1.0\n",
    "        currLine = line.strip().split('\\t')\n",
    "        lineArr = []\n",
    "        for i in range(21):\n",
    "            lineArr.append(float(currLine[i]))\n",
    "        if int(classifyVector(np.array(lineArr), trainWeights)) != int(currLine[21]):\n",
    "            errorCount += 1\n",
    "    # 计算在测试集上的错误率\n",
    "    errorRate = float(errorCount) / numTestVec\n",
    "    print(\"The error rate of this test is: {:.2f}\".format(errorRate))\n",
    "    return errorRate\n",
    "\n",
    "def multiTest():\n",
    "    numTests = 10; errorSum = 0.0\n",
    "    for k in range(numTests):\n",
    "        errorSum += colicTest()\n",
    "    print(\"After {} iterations the average error rate is: {:.2f}\".format(numTests, errorSum / float(numTests)))"
   ]
  },
  {
   "cell_type": "code",
   "execution_count": 50,
   "metadata": {},
   "outputs": [
    {
     "name": "stdout",
     "output_type": "stream",
     "text": [
      "The error rate of this test is: 0.30\n",
      "The error rate of this test is: 0.37\n",
      "The error rate of this test is: 0.36\n",
      "The error rate of this test is: 0.28\n",
      "The error rate of this test is: 0.22\n",
      "The error rate of this test is: 0.34\n",
      "The error rate of this test is: 0.30\n",
      "The error rate of this test is: 0.36\n",
      "The error rate of this test is: 0.36\n",
      "The error rate of this test is: 0.40\n",
      "After 10 iterations the average error rate is: 0.33\n"
     ]
    }
   ],
   "source": [
    "multiTest()"
   ]
  },
  {
   "cell_type": "code",
   "execution_count": null,
   "metadata": {},
   "outputs": [],
   "source": []
  }
 ],
 "metadata": {
  "kernelspec": {
   "display_name": "Python 3",
   "language": "python",
   "name": "python3"
  },
  "language_info": {
   "codemirror_mode": {
    "name": "ipython",
    "version": 3
   },
   "file_extension": ".py",
   "mimetype": "text/x-python",
   "name": "python",
   "nbconvert_exporter": "python",
   "pygments_lexer": "ipython3",
   "version": "3.6.5"
  }
 },
 "nbformat": 4,
 "nbformat_minor": 2
}
