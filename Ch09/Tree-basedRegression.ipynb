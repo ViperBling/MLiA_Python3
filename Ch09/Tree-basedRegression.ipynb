{
 "cells": [
  {
   "cell_type": "markdown",
   "metadata": {},
   "source": [
    "# 树回归\n",
    "主要内容：\n",
    "> 1. CART算法\n",
    "> 2. 回归与模型树\n",
    "> 3. 树剪枝算法\n",
    "> 4. Python GUI\n",
    "\n",
    "## 1. 复杂数据的局部性建模\n",
    "树回归算法：\n",
    "> 优点：可以对复杂和非线性的数据建模<br>\n",
    "> 缺点：结果不易理解<br>\n",
    "> 适用数据类型：数值型和标称型数据\n",
    "\n",
    "树回归的一般方法：\n",
    "> 1. 收集数据：采用任意方法收集数据。\n",
    "> 2. 准备数据：需要数值型的数据，标称型数据应该映射成二值型数据。\n",
    "> 3. 分析数据：绘出数据的二维可视化显示结果，以字典方式生成树。\n",
    "> 4. 训练算法：大部分时间都花费在叶节点树模型的构建上。\n",
    "> 5. 测试算法：使用测试数据上的R2值来分析模型的效果。\n",
    "> 6. 使用算法：使用训练出的树做预测，预测结果还可以用来做很多事情"
   ]
  },
  {
   "cell_type": "code",
   "execution_count": 45,
   "metadata": {},
   "outputs": [],
   "source": [
    "import numpy as np\n",
    "import matplotlib.pyplot as plt"
   ]
  },
  {
   "cell_type": "code",
   "execution_count": 42,
   "metadata": {},
   "outputs": [],
   "source": [
    "def loadDataSet(fileName):\n",
    "    dataMat = []\n",
    "    fr = open(fileName)\n",
    "    for line in fr.readlines():\n",
    "        curLine = line.strip().split('\\t')\n",
    "        # python3不适用：fltLine = map(float,curLine) 修改为： \n",
    "        fltLine = [float(x) for x in curLine]\n",
    "        dataMat.append(fltLine)\n",
    "    return dataMat\n",
    "\n",
    "def binSplitDataSet(dataSet, feature, value):\n",
    "    \"\"\"\n",
    "    将数据集按照feature列和value进行二元切分\n",
    "    Description : 在给定特征和特征值的情况下，该函数通过数组过滤的方式将dataSet切分为两个子集并返回\n",
    "    \"\"\"\n",
    "    # nonzero返回数组中不为0元素的下标\n",
    "    # 这里先将dataSet中第feature列大于value的置为1，小于value的置为0，然后取所有为1的样本\n",
    "    # 原书代码报错：'index out of bound'\n",
    "    # mat0 = dataSet[np.nonzero(dataSet[:, feature] > value)[0], :][0]\n",
    "    # mat1 = dataSet[np.nonzero(dataSet[:, feature] <= value)[0], :][0]\n",
    "    mat0 = dataSet[np.nonzero(dataSet[:, feature] > value)[0], :]\n",
    "    mat1 = dataSet[np.nonzero(dataSet[:, feature] <= value)[0], :]\n",
    "    return mat0, mat1"
   ]
  },
  {
   "cell_type": "markdown",
   "metadata": {},
   "source": [
    "第3章时使用信息熵来计算数据的混乱程度，在连续型数据值上，我们可以通过计算每个数据到均值的距离，使用所有数据的总方差来代表数据的混乱度。<br>\n",
    "下面的chooseBestSplit函数主要完成：用最佳的方式切分数据集和生成相应的叶节点。"
   ]
  },
  {
   "cell_type": "code",
   "execution_count": 37,
   "metadata": {},
   "outputs": [],
   "source": [
    "def regLeaf(dataSet):\n",
    "    \"\"\"负责生成叶节点，用聚类中心代表这团数据\"\"\"\n",
    "    return np.mean(dataSet[:, -1])\n",
    "\n",
    "def regErr(dataSet):\n",
    "    \"\"\"计算总方差\"\"\"\n",
    "    return np.var(dataSet[:, -1]) * dataSet.shape[0]\n",
    "\n",
    "def chooseBestSplit(dataSet, leafType=regLeaf, errType=regErr, ops=(1, 4)):\n",
    "    \"\"\"用最佳的方式切分数据集和生成相应的叶节点\n",
    "    \n",
    "    Parameters\n",
    "    -----------\n",
    "        dataSet :    加载的原始数据集\n",
    "        leafType :   建立叶子结点的函数\n",
    "        errType :    误差计算函数\n",
    "        ops :        ops[0]:容许误差下降值，ops[1]:切分的最少样本数\n",
    "    Returns\n",
    "    -----------\n",
    "        bestIndex : feature的坐标\n",
    "        bestValue : 切分的最优值\n",
    "    \"\"\"\n",
    "    # ops=(1,4)，非常重要，因为它决定了决策树划分停止的threshold值，被称为预剪枝（prepruning），其实也就是用于控制函数的停止时机。\n",
    "    # 之所以这样说，是因为它防止决策树的过拟合，所以当误差的下降值小于tolS，或划分后的集合size小于tolN时，选择停止继续划分。\n",
    "    # 最小误差下降值，划分后的误差减小小于这个差值，就不用继续划分\n",
    "    tolS = ops[0]; tolN = ops[1]\n",
    "    # dataSet[:, -1].tolist()取数据最后一列，然后取第一个元素。\n",
    "    # 去重后如果个数为一，那么所有的样本同属一类，不用划分。\n",
    "    if len(set(dataSet[:, -1].T.tolist()[0])) == 1:\n",
    "        return None, leafType(dataSet)\n",
    "    # m：样本量；n：特征量\n",
    "    m, n = dataSet.shape\n",
    "    # 初始样本的总方差和\n",
    "    S = errType(dataSet)\n",
    "    bestS = np.inf; bestIndex = 0; bestValue = 0\n",
    "    # 循环处理每一列对应的feature值\n",
    "    for featIndex in range(n-1):\n",
    "        # splitVal取相同特征的所有不同值\n",
    "        for splitVal in set(dataSet[:, featIndex].T.tolist()[0]):\n",
    "            # 按照splitVal进行二元切分\n",
    "            mat0, mat1 = binSplitDataSet(dataSet, featIndex, splitVal)\n",
    "            # 如果已达到最小划分集合阈值，停止使用该值进行划分\n",
    "            if (mat0.shape[0] < tolN) or (mat1.shape[0] < tolN): continue\n",
    "            newS = errType(mat0) + errType(mat1)\n",
    "            # 如果划分后误差小于bestS，记录新的\n",
    "            if newS < bestS:\n",
    "                bestIndex = featIndex\n",
    "                bestValue = splitVal\n",
    "                bestS = newS\n",
    "    # 判断二元切分的误差是否符合预期，如果误差下降小于阈值，那么直接生成叶节点\n",
    "    if (S - bestS) < tolS:\n",
    "        return None, leafType(dataSet)\n",
    "    # 使用最佳特征划分数据集\n",
    "    mat0, mat1 = binSplitDataSet(dataSet, bestIndex, bestValue)\n",
    "    # 如果使用bestIndex对应的特征分类完成后叶节点样本的数量小于阈值，则生成叶节点\n",
    "    if (mat1.shape[0] < tolN) or (mat0.shape[0] < tolN):\n",
    "        return None, leafType(dataSet)\n",
    "    return bestIndex, bestValue"
   ]
  },
  {
   "cell_type": "markdown",
   "metadata": {},
   "source": [
    "下面开始构建回归树"
   ]
  },
  {
   "cell_type": "code",
   "execution_count": 38,
   "metadata": {},
   "outputs": [],
   "source": [
    "def createTree(dataSet, leafType=regLeaf, errType=regErr, ops=(1, 4)):\n",
    "    \"\"\"创建回归树\n",
    "       递归函数，如果构建的是回归树，该模型是一个常数；如果是模型树，该模型是一个线性方程\n",
    "    \n",
    "    Parameters\n",
    "    -----------\n",
    "        dataSet :    加载的原始数据集\n",
    "        leafType :   建立叶子结点的函数\n",
    "        errType :    误差计算函数\n",
    "        ops :        ops[0]:容许误差下降值，ops[1]:切分的最少样本数\n",
    "    Returns\n",
    "    -----------\n",
    "        retTree :    决策树\n",
    "    \"\"\"\n",
    "    # 选择最优切分值\n",
    "    feat, val = chooseBestSplit(dataSet, leafType, errType, ops)\n",
    "    if feat == None: return val\n",
    "    retTree = {}\n",
    "    retTree['spInd'] = feat\n",
    "    retTree['spVal'] = val\n",
    "    lSet, rSet = binSplitDataSet(dataSet, feat, val)\n",
    "    retTree['left'] = createTree(lSet, leafType, errType, ops)\n",
    "    retTree['right'] = createTree(rSet, leafType, errType, ops)\n",
    "    return retTree"
   ]
  },
  {
   "cell_type": "code",
   "execution_count": 41,
   "metadata": {},
   "outputs": [
    {
     "data": {
      "text/plain": [
       "{'spInd': 0,\n",
       " 'spVal': 0.48813,\n",
       " 'left': 1.0180967672413792,\n",
       " 'right': -0.04465028571428572}"
      ]
     },
     "execution_count": 41,
     "metadata": {},
     "output_type": "execute_result"
    }
   ],
   "source": [
    "myDat = loadDataSet('ex00.txt')\n",
    "myMat = np.mat(myDat)\n",
    "createTree(myMat)"
   ]
  },
  {
   "cell_type": "code",
   "execution_count": 51,
   "metadata": {},
   "outputs": [
    {
     "data": {
      "image/png": "[encoded data removed]",
      "text/plain": [
       "<Figure size 576x432 with 1 Axes>"
      ]
     },
     "metadata": {},
     "output_type": "display_data"
    }
   ],
   "source": [
    "mat0, mat1 = binSplitDataSet(myMat, 0, 0.48813)\n",
    "mat0 = np.array(mat0)\n",
    "mat1 = np.array(mat1)\n",
    "plt.figure(figsize=(8, 6))\n",
    "plt.scatter(mat0[:, 0], mat0[:, 1], c='r')\n",
    "plt.scatter(mat1[:, 0], mat1[:, 1], c='b')\n",
    "plt.show()"
   ]
  },
  {
   "cell_type": "code",
   "execution_count": 52,
   "metadata": {},
   "outputs": [
    {
     "data": {
      "text/plain": [
       "{'spInd': 1,\n",
       " 'spVal': 0.39435,\n",
       " 'left': {'spInd': 1,\n",
       "  'spVal': 0.582002,\n",
       "  'left': {'spInd': 1,\n",
       "   'spVal': 0.797583,\n",
       "   'left': 3.9871632,\n",
       "   'right': 2.9836209534883724},\n",
       "  'right': 1.980035071428571},\n",
       " 'right': {'spInd': 1,\n",
       "  'spVal': 0.197834,\n",
       "  'left': 1.0289583666666666,\n",
       "  'right': -0.023838155555555553}}"
      ]
     },
     "execution_count": 52,
     "metadata": {},
     "output_type": "execute_result"
    }
   ],
   "source": [
    "myDat1 = loadDataSet('ex0.txt')\n",
    "myMat1 = np.mat(myDat1)\n",
    "createTree(myMat1)"
   ]
  },
  {
   "cell_type": "code",
   "execution_count": 55,
   "metadata": {},
   "outputs": [
    {
     "data": {
      "image/png": "[encoded data removed]",
      "text/plain": [
       "<Figure size 576x432 with 1 Axes>"
      ]
     },
     "metadata": {},
     "output_type": "display_data"
    }
   ],
   "source": [
    "plt.figure(figsize=(8, 6))\n",
    "plt.scatter(np.array(myMat1[:, 1]), np.array(myMat1[:, 2]))\n",
    "plt.show()"
   ]
  },
  {
   "cell_type": "markdown",
   "metadata": {},
   "source": [
    "## 2. 树剪枝"
   ]
  },
  {
   "cell_type": "code",
   "execution_count": null,
   "metadata": {},
   "outputs": [],
   "source": []
  }
 ],
 "metadata": {
  "kernelspec": {
   "display_name": "Python 3",
   "language": "python",
   "name": "python3"
  },
  "language_info": {
   "codemirror_mode": {
    "name": "ipython",
    "version": 3
   },
   "file_extension": ".py",
   "mimetype": "text/x-python",
   "name": "python",
   "nbconvert_exporter": "python",
   "pygments_lexer": "ipython3",
   "version": "3.6.5"
  }
 },
 "nbformat": 4,
 "nbformat_minor": 2
}
