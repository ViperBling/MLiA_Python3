{
 "cells": [
  {
   "cell_type": "markdown",
   "metadata": {},
   "source": [
    "# 使用Apriori进行关联分析\n",
    "Apriori算法\n",
    "> 优点：易编码实现<br>\n",
    "> 缺点：在大数据集上可能较慢<br>\n",
    "> 适用数据类型：数值型数据或标称型数据\n",
    "\n",
    "Apriori算法的一般过程：\n",
    "> 1. 收集数据:使用任意方法。\n",
    "> 2. 准备数据:任何数据类型都可以,因为我们只保存集合。\n",
    "> 3. 分析数据:使用任意方法。\n",
    "> 4. 训练算法:使用Apriori算法来找到频繁项集。\n",
    "> 5. 测试算法:不需要测试过程。\n",
    "> 6. 使用算法:用于发现频繁项集以及物品之间的关联规则。"
   ]
  },
  {
   "cell_type": "markdown",
   "metadata": {},
   "source": [
    "## 1. 算法实现\n",
    "### a. 生成候选项集\n",
    "```\n",
    "对数据集中的每条交易记录tran\n",
    "    对每个候选项集can:\n",
    "        检查一下can是否是tran的子集：\n",
    "        如果是，则增加can的计数值\n",
    "        对每个候选项集：\n",
    "        如果其支持度不低于最小值，则保留该项集\n",
    "        返回所有频繁项集列表\n",
    "```\n",
    "\n",
    "支持度定义：<br>\n",
    "一个项集的支持度定义为在数据集中包含该项集的记录所占的比例，例如书中第一个例子中数据集总共有5条记录，那么{豆奶}的支持度就为4/5，因为它在4条记录里面都出现了"
   ]
  },
  {
   "cell_type": "code",
   "execution_count": 1,
   "metadata": {},
   "outputs": [],
   "source": [
    "import numpy as np"
   ]
  },
  {
   "cell_type": "code",
   "execution_count": 2,
   "metadata": {},
   "outputs": [],
   "source": [
    "def loadDataSet():\n",
    "    return [[1, 3, 4], [2, 3, 5], [1, 2, 3, 5], [2, 5]]\n",
    "\n",
    "def createC1(dataSet):\n",
    "    \"\"\"\n",
    "    创建C1集合，将数据集中所有的元素分割成只含有一个元素的集合，\n",
    "    然后放到C1中\n",
    "    \"\"\"\n",
    "    \n",
    "    C1 = []\n",
    "    for transaction in dataSet:\n",
    "        for item in transaction:\n",
    "            if not [item] in C1:\n",
    "                C1.append([item])\n",
    "    C1.sort()\n",
    "    # frozenset：表示冻结的set集合，不可改变，可以当作字典的键值使用\n",
    "    return list(map(frozenset, C1))\n",
    "                \n",
    "def scanD(D, Ck, minSupport):\n",
    "    \"\"\"\n",
    "    计算候选数据集Ck在数据集D中的支持度，并返回支持度大于最小支持度的数据\n",
    "    \n",
    "    Parameters\n",
    "    -----------\n",
    "        D :           数据集\n",
    "        Ck :          候选项集列表\n",
    "        minSupport :  最小支持度\n",
    "    Returns\n",
    "    -----------\n",
    "        retList :     支持度大于minSupport的集合\n",
    "        supportData : 候选项集支持度数据\n",
    "    \"\"\"\n",
    "    \n",
    "    # ssCnt存放候选数据集Ck的频率，例如a->10, b->5, c->8 etc.\n",
    "    ssCnt = {}\n",
    "    for tid in D:\n",
    "        for can in Ck:\n",
    "            # s.issubset(t)   测试是否s中每个元素都在t中\n",
    "            if can.issubset(tid):\n",
    "                # 如果字典中没有当前项集，计数器置一\n",
    "                if not can in ssCnt.keys():\n",
    "                    ssCnt[can] = 1\n",
    "                # 如果字典中有当前项集，计数器加一\n",
    "                else:\n",
    "                    ssCnt[can] += 1\n",
    "        \n",
    "    numItems = float(len(D))\n",
    "    retList = []\n",
    "    supportData = {}\n",
    "    # 遍历所有候选集\n",
    "    for key in ssCnt:\n",
    "        # 计算每个候选集的频率\n",
    "        support = ssCnt[key] / numItems\n",
    "        # 大于最小支持度，则在频繁集列表中插入\n",
    "        if support >= minSupport:\n",
    "            retList.insert(0, key)\n",
    "        # 记录当前集合的支持度数据\n",
    "        supportData[key] = support\n",
    "    return retList, supportData"
   ]
  },
  {
   "cell_type": "code",
   "execution_count": 3,
   "metadata": {},
   "outputs": [
    {
     "data": {
      "text/plain": [
       "[[1, 3, 4], [2, 3, 5], [1, 2, 3, 5], [2, 5]]"
      ]
     },
     "execution_count": 3,
     "metadata": {},
     "output_type": "execute_result"
    }
   ],
   "source": [
    "dataSet = loadDataSet()\n",
    "dataSet"
   ]
  },
  {
   "cell_type": "code",
   "execution_count": 4,
   "metadata": {},
   "outputs": [
    {
     "name": "stdout",
     "output_type": "stream",
     "text": [
      "[frozenset({1}), frozenset({2}), frozenset({3}), frozenset({4}), frozenset({5})]\n"
     ]
    }
   ],
   "source": [
    "C1 = createC1(dataSet)\n",
    "print(C1)"
   ]
  },
  {
   "cell_type": "code",
   "execution_count": 5,
   "metadata": {},
   "outputs": [
    {
     "data": {
      "text/plain": [
       "[{1, 3, 4}, {2, 3, 5}, {1, 2, 3, 5}, {2, 5}]"
      ]
     },
     "execution_count": 5,
     "metadata": {},
     "output_type": "execute_result"
    }
   ],
   "source": [
    "D = list(map(set, dataSet))\n",
    "D"
   ]
  },
  {
   "cell_type": "code",
   "execution_count": 6,
   "metadata": {},
   "outputs": [
    {
     "name": "stdout",
     "output_type": "stream",
     "text": [
      "[frozenset({5}), frozenset({2}), frozenset({3}), frozenset({1})]\n",
      "{frozenset({1}): 0.5, frozenset({3}): 0.75, frozenset({4}): 0.25, frozenset({2}): 0.75, frozenset({5}): 0.75}\n"
     ]
    }
   ],
   "source": [
    "L1, supportData0 = scanD(D, C1, 0.5)\n",
    "print(L1); print(supportData0)"
   ]
  },
  {
   "cell_type": "markdown",
   "metadata": {},
   "source": [
    "## b. 实现完整的Apriori算法\n",
    "伪代码如下：\n",
    "```\n",
    "当集合中项的个数大于0时：\n",
    "    构建一个k个项组成的候选项集的列表\n",
    "    检查数据以确认每个项集都是频繁的\n",
    "    保留频繁项集并构建k+1个项组成的候选项集列表\n",
    "```"
   ]
  },
  {
   "cell_type": "code",
   "execution_count": 7,
   "metadata": {},
   "outputs": [],
   "source": [
    "def aprioriGen(Lk, k):\n",
    "    \"\"\"\n",
    "    通过频繁项集Lk生成候选项集Ck\n",
    "    例如：以{0}, {1}, {2}生成k=2的候选项集，则输出为{0,1}, {0,2}, {1,2}。\n",
    "    \n",
    "    Parameters\n",
    "    -----------\n",
    "        Lk : 频繁项集列表\n",
    "        k : 返回的候选项集中元素的个数\n",
    "    Returns\n",
    "    -----------\n",
    "        retList : 元素两两合并的数据集\n",
    "    \"\"\"\n",
    "    \n",
    "    retList = []\n",
    "    lenLk = len(Lk)\n",
    "    for i in range(lenLk):\n",
    "        for j in range(i+1, lenLk):\n",
    "            # k-2：现在想要从{0,1}, {0,2}, {1,2}构造出三元素项集，如果两两合并，那么会生成三个重复集合\n",
    "            # 需要进一步去重操作，为了减少遍历列表的次数，只比较第一个元素并只对第一个元素相同的集合进行合并\n",
    "            # 那么就可以直接得到{0, 1, 2}这个集合。因为Lk的元素是不重复的，所以直接合并速度较快\n",
    "            L1 = list(Lk[i])[:k-2]\n",
    "            L2 = list(Lk[j])[:k-2]\n",
    "            L1.sort()\n",
    "            L2.sort()\n",
    "            # 第一次两个列表元素为空，直接执行合并操作\n",
    "            if L1 == L2:\n",
    "                # | 集合的并操作\n",
    "                retList.append(Lk[i] | Lk[j])\n",
    "    return retList\n",
    "\n",
    "def apriori(dataSet, minSupport=0.5):\n",
    "    \"\"\"\n",
    "    Apriori算法实现\n",
    "    \n",
    "    Parameters\n",
    "    -----------\n",
    "        dataSet : 原始数据集\n",
    "        minSupport : 最小支持度\n",
    "    Returns\n",
    "    -----------\n",
    "        L : 频繁集的全集\n",
    "        supportData : 支持度全集\n",
    "    \"\"\"\n",
    "    # C1对原始数据集去重并排序\n",
    "    C1 = createC1(dataSet)\n",
    "    # 把数据集每行转换成set\n",
    "    D = list(map(set, dataSet))\n",
    "    # 基于原始数据集生成元素个数为1的频繁集\n",
    "    L1, supportData = scanD(D, C1, minSupport)\n",
    "    # 将第一个频繁集加入全集列表\n",
    "    L = [L1]\n",
    "    k = 2\n",
    "    # 循环停止：当元素个数最多的频繁集已经达到上限，最后不能再生成元素更多的频繁集，停止循环\n",
    "    while (len(L[k - 2]) > 0):\n",
    "        # 由频繁集生成候选集，初始为2，后面依次累加\n",
    "        Ck = aprioriGen(L[k - 2], k)\n",
    "        # 通过前面生成的候选集生成频繁集\n",
    "        Lk, supK = scanD(D, Ck, minSupport)\n",
    "        # 更新支持度\n",
    "        supportData.update(supK)\n",
    "        # 更新频繁集全集列表\n",
    "        L.append(Lk)\n",
    "        k += 1\n",
    "    return L, supportData"
   ]
  },
  {
   "cell_type": "code",
   "execution_count": 8,
   "metadata": {},
   "outputs": [
    {
     "data": {
      "text/plain": [
       "[[frozenset({5}), frozenset({2}), frozenset({3}), frozenset({1})],\n",
       " [frozenset({2, 3}), frozenset({3, 5}), frozenset({2, 5}), frozenset({1, 3})],\n",
       " [frozenset({2, 3, 5})],\n",
       " []]"
      ]
     },
     "execution_count": 8,
     "metadata": {},
     "output_type": "execute_result"
    }
   ],
   "source": [
    "L, suppData = apriori(dataSet)\n",
    "L"
   ]
  },
  {
   "cell_type": "code",
   "execution_count": 9,
   "metadata": {},
   "outputs": [
    {
     "data": {
      "text/plain": [
       "[frozenset({2, 5}),\n",
       " frozenset({3, 5}),\n",
       " frozenset({1, 5}),\n",
       " frozenset({2, 3}),\n",
       " frozenset({1, 2}),\n",
       " frozenset({1, 3})]"
      ]
     },
     "execution_count": 9,
     "metadata": {},
     "output_type": "execute_result"
    }
   ],
   "source": [
    "aprioriGen(L[0], 2)"
   ]
  },
  {
   "cell_type": "markdown",
   "metadata": {},
   "source": [
    "## 2. 从频繁项集挖掘关联规则\n",
    "集合a到b的可信度定义为：\n",
    "$$a->b = \\frac{support(a | b)}{support(a)}$$\n",
    "\n",
    "假设freqSet = frozenset([1,3])，conseq = [frozenset([1])]，那么frozenset([1])到frozenset([3])的可信度为：<br><br>\n",
    "$$\\frac{support(freqSet)}{support(conseq)}$$\n",
    "反之，frozenset([3])到frozenset([1])的可信度为：\n",
    "$$\\frac{support(freqSet)}{support(freqSet - conseq)}$$"
   ]
  },
  {
   "cell_type": "code",
   "execution_count": 10,
   "metadata": {},
   "outputs": [],
   "source": [
    "def calcConf(freqSet, H, supportData, brl, minConf=0.7):\n",
    "    \"\"\"\n",
    "    对两个元素的频繁集计算可信度，例如：{1,2}/{1}或者{1,2}/{2}\n",
    "    \n",
    "    Parameters\n",
    "    -----------\n",
    "        freqSet : 频繁集中的元素，e.g.:frozenset({1, 3})\n",
    "        H : 频繁集中的元素集合，e.g.:[frozenset({2, 3}), frozenset({3, 5})]\n",
    "        supportData : 所有元素的支持度字典\n",
    "        brl : 关联规则列表的数组\n",
    "        minConf : 最小可信度\n",
    "    Returns\n",
    "    -----------\n",
    "        prunedH : 记录可信度大于最小可信度的集合\n",
    "    \"\"\"\n",
    "    prunedH = []\n",
    "    # 假设freqSet = frozenset({1, 3})，H = [frozenset({1}), frozenset({3})]\n",
    "    # 那么需要求出frozenset({1})->frozenset({3})和frozenset({3})->frozenset({1})的可信度\n",
    "    for conseq in H:\n",
    "        # 计算H中元素的可信度\n",
    "        conf = supportData[freqSet] / supportData[freqSet - conseq]\n",
    "        if conf >= minConf:\n",
    "            print(freqSet-conseq, '--->', conseq, 'conf: ', conf)\n",
    "            # 当前可信度较高，就扩充关联规则列表\n",
    "            brl.append((freqSet - conseq, conseq, conf))\n",
    "            # 加入输出结果\n",
    "            prunedH.append(conseq)\n",
    "    return prunedH\n",
    "\n",
    "def rulesFromConseq(freqSet, H, supportData, brl, minConf=0.7):\n",
    "    \"\"\"\n",
    "    生成关联规则\n",
    "    \n",
    "    Parameters\n",
    "    -----------\n",
    "        freqSet : 频繁集中的元素，e.g.:frozenset({1, 3})\n",
    "        H : 频繁集中的元素集合，e.g.:[frozenset({2, 3}), frozenset({3, 5})]\n",
    "        supportData : 所有元素的支持度字典\n",
    "        brl : 关联规则列表的数组\n",
    "        minConf : 最小可信度\n",
    "    \"\"\"\n",
    "    # H[0]是freqSet中的第一个元素的frozenset，并且，H中所有元素的长度都一样均为m+1\n",
    "    # 递归时，m从1开始增长到freqSet的产度为止，并不断地计算freqSet子集的可信度\n",
    "    # 当H[0] = freqSet的时候停止递归\n",
    "    m = len(H[0])\n",
    "    if (len(freqSet) > m + 1):\n",
    "        # 生成长度大于当前H元素长度的集合，例如：H = [frozenset([2]),frozenset([3]),frozenset([5])]\n",
    "        # 那么就生成Hmp1 = [frozenset([2, 3]), forzenset([2, 5]), frozenset([3, 5])]\n",
    "        Hmp1 = aprioriGen(H, m+1)\n",
    "        # 获得所有可信度大于最小可信度的集合\n",
    "        Hmp1 = calcConf(freqSet, Hmp1, supportData, brl, minConf)\n",
    "        # 计算可信度后，如果还有数据大于最小可信度的话继续递归，否则停止\n",
    "        if (len(Hmp1) > 1):\n",
    "            rulesFromConseq(freqSet, Hmp1, supportData, brl, minConf)\n",
    "\n",
    "def generateRules(L, supportData, minConf=0.7):\n",
    "    \"\"\"\n",
    "    Returns\n",
    "    -----------\n",
    "        bigRuleList : 可信度规则列表，A->B + 可信度\n",
    "    \"\"\"\n",
    "    bigRuleList = []\n",
    "    # 对整个频繁项集子集遍历\n",
    "    for i in range(1, len(L)):\n",
    "        # 频繁项集每个组合的所有元素\n",
    "        for freqSet in L[i]:\n",
    "            # 假设freqSet = frozenset([1, 3]), H1 = [frozenset([1]), frozenset([3])]\n",
    "            H1 = [frozenset([item]) for item in freqSet]\n",
    "            # 对于freqSet中只含两个的元素计算可信度，两个以上的就可以生成关联规则了\n",
    "            if i > 1:\n",
    "                rulesFromConseq(freqSet, H1, supportData, bigRuleList, minConf)\n",
    "            else:\n",
    "                calcConf(freqSet, H1, supportData, bigRuleList, minConf)\n",
    "    return bigRuleList"
   ]
  },
  {
   "cell_type": "code",
   "execution_count": 11,
   "metadata": {},
   "outputs": [
    {
     "name": "stdout",
     "output_type": "stream",
     "text": [
      "frozenset({5}) ---> frozenset({2}) conf:  1.0\n",
      "frozenset({2}) ---> frozenset({5}) conf:  1.0\n",
      "frozenset({1}) ---> frozenset({3}) conf:  1.0\n"
     ]
    },
    {
     "data": {
      "text/plain": [
       "[(frozenset({5}), frozenset({2}), 1.0),\n",
       " (frozenset({2}), frozenset({5}), 1.0),\n",
       " (frozenset({1}), frozenset({3}), 1.0)]"
      ]
     },
     "execution_count": 11,
     "metadata": {},
     "output_type": "execute_result"
    }
   ],
   "source": [
    "L, supportData = apriori(dataSet, minSupport=0.5)\n",
    "rules = generateRules(L, supportData, minConf=0.7)\n",
    "rules"
   ]
  },
  {
   "cell_type": "code",
   "execution_count": null,
   "metadata": {},
   "outputs": [],
   "source": []
  }
 ],
 "metadata": {
  "kernelspec": {
   "display_name": "Python 3",
   "language": "python",
   "name": "python3"
  },
  "language_info": {
   "codemirror_mode": {
    "name": "ipython",
    "version": 3
   },
   "file_extension": ".py",
   "mimetype": "text/x-python",
   "name": "python",
   "nbconvert_exporter": "python",
   "pygments_lexer": "ipython3",
   "version": "3.7.0"
  }
 },
 "nbformat": 4,
 "nbformat_minor": 2
}
