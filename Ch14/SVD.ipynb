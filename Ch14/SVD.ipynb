{
 "cells": [
  {
   "cell_type": "markdown",
   "metadata": {},
   "source": [
    "# SVD 奇异值分解\n",
    "奇异值分解(Singular Value Decomposition：\n",
    "> 优点：简化数据，去除噪声，提高算法运行效果<br>\n",
    "> 缺点：数据的转换可能难以理解<br>\n",
    "> 适用数据类型：数值型数据\n",
    "\n",
    "假设矩阵A是m*n的，奇异值分解的结果就是将矩阵A分解为如下三个矩阵的乘积：\n",
    "$$A_{mxn} = U_{mxm}\\Sigma_{mxn}{V^T_{nxn}}$$\n",
    "U 的列由 $AA^T$ 的单位化过的特征向量构成<br>\n",
    "V 的列由 $A^TA$ 的单位化过的特征向量构成<br>\n",
    "Σ 的对角元素来源于 $AA^T$ 或 $A^TA$ 的特征值的平方根，并且是按从大到小的顺序排列的。奇异值就是 Σ 对角线上的元素。"
   ]
  },
  {
   "cell_type": "markdown",
   "metadata": {},
   "source": [
    "## 1. 使用Python实现SVD"
   ]
  },
  {
   "cell_type": "code",
   "execution_count": 1,
   "metadata": {
    "collapsed": true
   },
   "outputs": [],
   "source": [
    "import numpy as np"
   ]
  },
  {
   "cell_type": "code",
   "execution_count": 4,
   "metadata": {},
   "outputs": [
    {
     "name": "stdout",
     "output_type": "stream",
     "text": [
      "[[-0.14142136 -0.98994949]\n",
      " [-0.98994949  0.14142136]] \n",
      "\n",
      " [  1.00000000e+01   2.82797782e-16] \n",
      "\n",
      " [[-0.70710678 -0.70710678]\n",
      " [ 0.70710678 -0.70710678]]\n"
     ]
    }
   ],
   "source": [
    "U, sigma, VT = np.linalg.svd([[1, 1], [7, 7]])\n",
    "print(U, '\\n\\n', sigma, '\\n\\n', VT)"
   ]
  },
  {
   "cell_type": "code",
   "execution_count": 5,
   "metadata": {
    "collapsed": true
   },
   "outputs": [],
   "source": [
    "def loadExData():\n",
    "    return [[1, 1, 1, 0, 0],\n",
    "            [2, 2, 2, 0, 0],\n",
    "            [1, 1, 1, 0, 0],\n",
    "            [5, 5, 5, 0, 0],\n",
    "            [1, 1, 0, 2, 2],\n",
    "            [0, 0, 0, 3, 3],\n",
    "            [0, 0, 0, 1, 1]]"
   ]
  },
  {
   "cell_type": "code",
   "execution_count": 7,
   "metadata": {},
   "outputs": [
    {
     "data": {
      "text/plain": [
       "array([  9.72140007e+00,   5.29397912e+00,   6.84226362e-01,\n",
       "         3.19320674e-16,   3.20843997e-32])"
      ]
     },
     "execution_count": 7,
     "metadata": {},
     "output_type": "execute_result"
    }
   ],
   "source": [
    "Data = loadExData()\n",
    "U, Sigma, VT = np.linalg.svd(Data)\n",
    "Sigma"
   ]
  },
  {
   "cell_type": "markdown",
   "metadata": {},
   "source": [
    "可以看到前三个数值比后面的大了很多，近似可以把后面两个数据看成0."
   ]
  },
  {
   "cell_type": "code",
   "execution_count": 8,
   "metadata": {},
   "outputs": [
    {
     "data": {
      "text/plain": [
       "matrix([[  1.00000000e+00,   1.00000000e+00,   1.00000000e+00,\n",
       "           3.61262144e-16,   3.70225958e-16],\n",
       "        [  2.00000000e+00,   2.00000000e+00,   2.00000000e+00,\n",
       "          -1.46415982e-16,  -1.28488353e-16],\n",
       "        [  1.00000000e+00,   1.00000000e+00,   1.00000000e+00,\n",
       "          -1.33036301e-15,  -1.32139919e-15],\n",
       "        [  5.00000000e+00,   5.00000000e+00,   5.00000000e+00,\n",
       "           1.93978525e-16,   2.38689177e-16],\n",
       "        [  1.00000000e+00,   1.00000000e+00,  -1.42782680e-15,\n",
       "           2.00000000e+00,   2.00000000e+00],\n",
       "        [  3.78943636e-16,   2.20678054e-16,  -5.66590640e-16,\n",
       "           3.00000000e+00,   3.00000000e+00],\n",
       "        [  1.15199728e-16,   6.70704628e-17,  -1.98958284e-16,\n",
       "           1.00000000e+00,   1.00000000e+00]])"
      ]
     },
     "execution_count": 8,
     "metadata": {},
     "output_type": "execute_result"
    }
   ],
   "source": [
    "# 重构原矩阵\n",
    "Sig3 = np.mat([[Sigma[0], 0, 0], [0, Sigma[1], 0], [0, 0, Sigma[2]]])\n",
    "U[:, :3] * Sig3 * VT[:3, :]"
   ]
  },
  {
   "cell_type": "markdown",
   "metadata": {},
   "source": [
    "## 2. 基于协同过滤的推荐引擎\n",
    "### a. 相似度计算\n",
    "欧氏距离、皮尔逊相似度、余弦相似度"
   ]
  },
  {
   "cell_type": "code",
   "execution_count": 9,
   "metadata": {
    "collapsed": true
   },
   "outputs": [],
   "source": [
    "# 计算欧氏距离\n",
    "def  ecludSim(inA, inB):\n",
    "    return 1.0 / (1.0 + np.linalg.norm(inA - inB))\n",
    "\n",
    "# 计算皮尔逊距离\n",
    "def pearsSim(inA, inB):\n",
    "    # 如果不存在，则返回1.0，这时完全相关\n",
    "    if len(inA) < 3:\n",
    "        return 1.0\n",
    "    return 0.5 + 0.5 * np.corrcoef(inA, inB, rowvar=0)[0][1]\n",
    "\n",
    "# 计算余弦相似度，夹角为90相似度为0.\n",
    "def cosSim(inA, inB):\n",
    "    num = float(inA.T * inB)\n",
    "    denom = np.linalg.norm(inA) * np.linalg.norm(inB)\n",
    "    return 0.5 + 0.5 * (num / denom)"
   ]
  },
  {
   "cell_type": "code",
   "execution_count": 10,
   "metadata": {},
   "outputs": [
    {
     "data": {
      "text/plain": [
       "0.13367660240019172"
      ]
     },
     "execution_count": 10,
     "metadata": {},
     "output_type": "execute_result"
    }
   ],
   "source": [
    "myMat = np.mat(loadExData())\n",
    "ecludSim(myMat[:, 0], myMat[:, 4])"
   ]
  },
  {
   "cell_type": "code",
   "execution_count": 11,
   "metadata": {},
   "outputs": [
    {
     "data": {
      "text/plain": [
       "1.0"
      ]
     },
     "execution_count": 11,
     "metadata": {},
     "output_type": "execute_result"
    }
   ],
   "source": [
    "ecludSim(myMat[:, 0], myMat[:, 0])"
   ]
  },
  {
   "cell_type": "code",
   "execution_count": 13,
   "metadata": {},
   "outputs": [
    {
     "data": {
      "text/plain": [
       "(0.23768619407595815, 1.0)"
      ]
     },
     "execution_count": 13,
     "metadata": {},
     "output_type": "execute_result"
    }
   ],
   "source": [
    "pearsSim(myMat[:, 0], myMat[:, 4]), pearsSim(myMat[:, 0], myMat[:, 1])"
   ]
  },
  {
   "cell_type": "markdown",
   "metadata": {},
   "source": [
    "### b. 餐馆菜肴推荐引擎\n",
    "推荐系统的工作过程是:给定一个用户,系统会为此用户返回N个最好的推荐菜。为了实现这一点,则需要我们做到:\n",
    "    1. 寻找用户没有评级的菜肴,即在用户-物品矩阵中的 0 值;\n",
    "    2. 在用户没有评级的所有物品中,对每个物品预计一个可能的评级分数。这就是说,我们认为用户可能会对物品的打分(这就是相似度计算的初衷);\n",
    "    3. 对这些物品的评分从高到低进行排序,返回前N个物品。"
   ]
  },
  {
   "cell_type": "code",
   "execution_count": 14,
   "metadata": {
    "collapsed": true
   },
   "outputs": [],
   "source": [
    "def standEst(dataMat, user, simMeas, item):\n",
    "    n = dataMat.shape[1]\n",
    "    simTotal = 0.0\n",
    "    ratSimTotal = 0.0\n",
    "    for j in range(n):\n",
    "        userRating = dataMat[user, j]\n",
    "        if userRating == 0:\n",
    "            continue\n",
    "        overLap = np.nonzero(np.logical_and(dataMat[:, item].A > 0,\n",
    "                                            dataMat[:, j].A > 0))[0]\n",
    "        if len(overLap) == 0:\n",
    "            similarity = 0\n",
    "        else:\n",
    "            similarity = simMeas(dataMat[overLap, item], dataMat[overLap, j])\n",
    "        print(\"The %d and %d similarity is: %f\" % (item, j, similarity))\n",
    "        simTotal += similarity\n",
    "        ratSimTotal += similarity * userRating\n",
    "    if simTotal == 0:\n",
    "        return 0\n",
    "    else:\n",
    "        return ratSimTotal / simTotal\n",
    "    \n",
    "def recommend(dataMat, user, N=3, simMeas=cosSim, estMethod=standEst):\n",
    "    unratedItems = np.nonzero(dataMat[user, :].A == 0)[1]\n",
    "    if len(unratedItems) == 0:\n",
    "        return 'you rated everything'\n",
    "    itemScores = []\n",
    "    for item in unratedItems:\n",
    "        estimatedScore = estMethod(dataMat, user, simMeas, item)\n",
    "        itemScores.append((item, estimatedScore))\n",
    "    return sorted(itemScores, key=lambda jj: jj[1], reverse=True)[:N]"
   ]
  },
  {
   "cell_type": "code",
   "execution_count": null,
   "metadata": {
    "collapsed": true
   },
   "outputs": [],
   "source": []
  }
 ],
 "metadata": {
  "kernelspec": {
   "display_name": "Python 3",
   "language": "python",
   "name": "python3"
  },
  "language_info": {
   "codemirror_mode": {
    "name": "ipython",
    "version": 3
   },
   "file_extension": ".py",
   "mimetype": "text/x-python",
   "name": "python",
   "nbconvert_exporter": "python",
   "pygments_lexer": "ipython3",
   "version": "3.6.2"
  }
 },
 "nbformat": 4,
 "nbformat_minor": 2
}
