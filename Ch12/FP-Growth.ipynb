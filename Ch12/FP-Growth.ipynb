{
 "cells": [
  {
   "cell_type": "markdown",
   "metadata": {},
   "source": [
    "# FP-Growth\n",
    "FP-growth算法是一种基于Apriori构建的高效发现频繁集的算法。\n",
    "> 优点：一般要快于Apriori<br>\n",
    "> 缺点：实现比较困难，在某些数据集上性能会下降<br>\n",
    "> 适用数据类型：标称型数据\n",
    "\n",
    "FP-Growth的一般流程\n",
    "> 1. 收集数据:使用任意方法。\n",
    "> 2. 准备数据:由于存储的是集合,所以需要离散数据。如果要处理连续数据,需要将它们量化为离散值。\n",
    "> 3. 分析数据:使用任意方法。\n",
    "> 4. 训练算法:构建一个FP树,并对树进行挖据。\n",
    "> 5. 测试算法:没有测试过程。\n",
    "> 6. 使用算法:可用于识别经常出现的元素项,从而用于制定决策、推荐元素或进行预测"
   ]
  },
  {
   "cell_type": "markdown",
   "metadata": {},
   "source": [
    "## 1. FP树的实现\n",
    "### a. 创建树的数据结构\n",
    "FP树要比其他树更加复杂需要创建一个类来保存树的每个节点。"
   ]
  },
  {
   "cell_type": "code",
   "execution_count": 74,
   "metadata": {},
   "outputs": [],
   "source": [
    "class treeNode:\n",
    "    def __init__(self, nameValue, numOccur, parentNode):\n",
    "        self.name = nameValue\n",
    "        self.count = numOccur\n",
    "        self.nodeLink = None   # 是否有相似节点\n",
    "        self.parent = parentNode\n",
    "        self.children = {}\n",
    "        \n",
    "    def inc(self, numOccur):\n",
    "        self.count += numOccur\n",
    "        \n",
    "    def disp(self, ind=1):\n",
    "        # 将树以文本形式显示\n",
    "        print(\"    \" * ind, self.name, ' ', self.count)\n",
    "        for child in self.children.values():\n",
    "            child.disp(ind+1)"
   ]
  },
  {
   "cell_type": "code",
   "execution_count": 75,
   "metadata": {},
   "outputs": [
    {
     "name": "stdout",
     "output_type": "stream",
     "text": [
      "     pyramid   9\n",
      "         eye   13\n"
     ]
    }
   ],
   "source": [
    "rootNode = treeNode('pyramid', 9, None)\n",
    "rootNode.children['eye'] = treeNode('eye', 13, None)\n",
    "rootNode.disp()"
   ]
  },
  {
   "cell_type": "markdown",
   "metadata": {},
   "source": [
    "### b. 构建FP树\n",
    "    除了FP树本身外，还要构建一个头指针表，利用头指针表可以快速访问给定类型的所有元素，头指针表中还保存了所有元素的总数。\n",
    "    第一次遍历数据集会获得每个元素项出现的频率，去掉不满足最小支持度的项后就可以构建FP树了。在构建时，读入每个项集并将其添加到一条已存在的路径中，如果不存在该路径，那么则创建。"
   ]
  },
  {
   "cell_type": "code",
   "execution_count": 21,
   "metadata": {},
   "outputs": [],
   "source": [
    "def createInitSet(dataSet):\n",
    "    \"\"\"\n",
    "    生成frozenset，并统计所有项集的出现次数\n",
    "    \"\"\"\n",
    "    retDict = {}\n",
    "    for trans in dataSet:\n",
    "        if frozenset(trans) not in retDict.keys():\n",
    "            retDict[frozenset(trans)] = 1\n",
    "        else:\n",
    "            retDict[frozenset(trans)] += 1\n",
    "    return retDict\n",
    "\n",
    "def updateHeader(nodeToTest, targetNode):\n",
    "    \"\"\"\n",
    "    更新头指针，建立相同元素之间的关系，例如左边的r指向右边的r\n",
    "    \n",
    "    Parameters\n",
    "    -----------\n",
    "        nodeToTest : 满足最小支持度所有元素\n",
    "        targetNode : Tree对象的子节点\n",
    "    \"\"\"\n",
    "    while nodeToTest.nodeLink is not None:\n",
    "        nodeToTest = nodeToTest.nodeLink\n",
    "    nodeToTest.nodeLink = targetNode\n",
    "    \n",
    "def updateTree(items, inTree, headerTable, count):\n",
    "    \"\"\"\n",
    "    更新FP树\n",
    "    \n",
    "    Parameters\n",
    "    -----------\n",
    "        items :        满足最小支持度排序后的元素key的数组\n",
    "        inTree :       空的Tree对象\n",
    "        headerTable :  满足最小支持度的所有元素\n",
    "        count :        原数据集中每一组key出现的次数\n",
    "    \"\"\"\n",
    "    \n",
    "    # items[0]为测试项集第一个元素，比如frozenset(['a', 'b', 'c'])，items[0]就是a\n",
    "    # 如果该元素在 inTree.children 这个字典中，就进行累加\n",
    "    # 如果该元素不存在 就 inTree.children 字典中新增key，value为初始化的 treeNode 对象\n",
    "    if items[0] in inTree.children:\n",
    "        # 叠加出现次数\n",
    "        inTree.children[items[0]].inc(count)\n",
    "    else:\n",
    "        # 如果不存在子节点，为该inTree添加子节点\n",
    "        inTree.children[items[0]] = treeNode(items[0], count, inTree)\n",
    "        # 如果dist字典的值的第二个元素为None，那么就设置本节点为对应的树节点\n",
    "        if headerTable[items[0]][1] is None:\n",
    "            # headerTable只记录第一次节点出现的位置\n",
    "            headerTable[items[0]][1] = inTree.children[items[0]]\n",
    "        else:\n",
    "            # 更新子树的nodeLink值\n",
    "            updateHeader(headerTable[items[0]][1], inTree.children[items[0]])\n",
    "    if len(items) > 1:\n",
    "        updateTree(items[1:], inTree.children[items[0]], headerTable, count)\n",
    "        \n",
    "def createTree(dataSet, minSup=1):\n",
    "    \"\"\"\n",
    "    生成FP树\n",
    "    \n",
    "    Parameters\n",
    "    -----------\n",
    "        dataSet : dist{行：出现次数}的样本数据 \n",
    "        minSup :  最小支持度\n",
    "    Returns\n",
    "    -----------\n",
    "        retTree : FP-tree\n",
    "        headerTable :满足最小支持度的所有元素\n",
    "    \"\"\"\n",
    "    \n",
    "    headerTable = {}\n",
    "    # trans是数据集中的每条记录\n",
    "    for trans in dataSet:\n",
    "        # 统计每行中所有元素出现的总次数\n",
    "        for item in trans:\n",
    "            # 例如：{'ababa': 3}，headerTable['a'] = 3+3+3 = 9, headerTable['b'] = 6\n",
    "            headerTable[item] = headerTable.get(item, 0) + dataSet[trans]\n",
    "    # 删除headerTable中支持度<minSup的元素\n",
    "    for k in list(headerTable.keys()):\n",
    "        if headerTable[k] < minSup:\n",
    "            del(headerTable[k])\n",
    "    \n",
    "    # 所有频繁项的不重复集合\n",
    "    freqItemSet = set(headerTable.keys())\n",
    "    if len(freqItemSet) == 0:\n",
    "        return None, None\n",
    "    for k in headerTable:\n",
    "        # 格式化，dist{元素key: [元素次数, None]}\n",
    "        headerTable[k] = [headerTable[k], None]\n",
    "    \n",
    "    retTree = treeNode('Null Set', 1, None)\n",
    "    for tranSet, count in dataSet.items():\n",
    "        localD = {}\n",
    "        for item in tranSet:\n",
    "            if item in freqItemSet:\n",
    "                # headerTable[item]为上面dist字典中的列表，所以localD[item]就是item的出现次数\n",
    "#                 print('headerTable[item][0]=', headerTable[item][0], headerTable[item])\n",
    "                localD[item] = headerTable[item][0]\n",
    "#         print('localD=', localD)\n",
    "        if len(localD) > 0:\n",
    "            # p = key, value是字典的项，所以p[1]就是使用value从大到小排序\n",
    "            # orderedItems表示取出原组的key值，也就是字母本身\n",
    "            orderedItems = [v[0] for v in sorted(localD.items(), key=lambda p: p[1], reverse=True)]\n",
    "#             print('orderedItems = ', orderedItems, 'headerTable', headerTable, '\\n\\n')\n",
    "            # 填充树，通过有序的orderedItems的第一位进行顺序填充第一层的子节点\n",
    "            updateTree(orderedItems, retTree, headerTable, count)\n",
    "    return retTree, headerTable"
   ]
  },
  {
   "cell_type": "code",
   "execution_count": 12,
   "metadata": {},
   "outputs": [],
   "source": [
    "def loadSimpDat():\n",
    "    simpDat = [['r', 'z', 'h', 'j', 'p'],\n",
    "               ['z', 'y', 'x', 'w', 'v', 'u', 't', 's'],\n",
    "               ['z'],\n",
    "               ['r', 'x', 'n', 'o', 's'],\n",
    "            #    ['r', 'x', 'n', 'o', 's'],\n",
    "               ['y', 'r', 'x', 'z', 'q', 't', 'p'],\n",
    "               ['y', 'z', 'x', 'e', 'q', 's', 't', 'm']]\n",
    "    return simpDat"
   ]
  },
  {
   "cell_type": "code",
   "execution_count": 13,
   "metadata": {},
   "outputs": [
    {
     "data": {
      "text/plain": [
       "{frozenset({'h', 'j', 'p', 'r', 'z'}): 1,\n",
       " frozenset({'s', 't', 'u', 'v', 'w', 'x', 'y', 'z'}): 1,\n",
       " frozenset({'z'}): 1,\n",
       " frozenset({'n', 'o', 'r', 's', 'x'}): 1,\n",
       " frozenset({'p', 'q', 'r', 't', 'x', 'y', 'z'}): 1,\n",
       " frozenset({'e', 'm', 'q', 's', 't', 'x', 'y', 'z'}): 1}"
      ]
     },
     "execution_count": 13,
     "metadata": {},
     "output_type": "execute_result"
    }
   ],
   "source": [
    "simpDat = loadSimpDat()\n",
    "initSet = createInitSet(simpDat)\n",
    "initSet"
   ]
  },
  {
   "cell_type": "code",
   "execution_count": 28,
   "metadata": {},
   "outputs": [
    {
     "name": "stdout",
     "output_type": "stream",
     "text": [
      "     Null Set   1\n",
      "         z   5\n",
      "             r   1\n",
      "             x   3\n",
      "                 y   3\n",
      "                     s   2\n",
      "                         t   2\n",
      "                     r   1\n",
      "                         t   1\n",
      "         x   1\n",
      "             s   1\n",
      "                 r   1\n",
      "{'r': [3, <__main__.treeNode object at 0x7f1eec1f07f0>], 'z': [5, <__main__.treeNode object at 0x7f1eec1f0208>], 'y': [3, <__main__.treeNode object at 0x7f1eec1f0358>], 'x': [4, <__main__.treeNode object at 0x7f1eec1f0898>], 's': [3, <__main__.treeNode object at 0x7f1eec1f0198>], 't': [3, <__main__.treeNode object at 0x7f1eec1f0160>]}\n"
     ]
    }
   ],
   "source": [
    "myFPtree, myHeaderTab = createTree(initSet, 3)\n",
    "myFPtree.disp()\n",
    "print(myHeaderTab)"
   ]
  },
  {
   "cell_type": "markdown",
   "metadata": {},
   "source": [
    "## 2. 从FP树中挖掘频繁项集\n",
    "基本步骤：\n",
    "> 1. 从FP树中获得条件模式基\n",
    "> 2. 利用条件模式基构建一个条件FP树\n",
    "> 3. 迭代重复步骤1，2，直到树包含一个元素项为止\n",
    "\n",
    "### a. 抽取条件模式基\n",
    "从保存的headerTable的单个频繁元素开始，以该元素为结尾，生成前缀路径，就是该元素的条件模式基。具体参见《机器学习实战》p231"
   ]
  },
  {
   "cell_type": "code",
   "execution_count": 24,
   "metadata": {},
   "outputs": [],
   "source": [
    "def ascendTree(leafNode, prefixPath):\n",
    "    \"\"\"\n",
    "    从当前元素开始，所有可以返回到根节点的路径\n",
    "    \"\"\"\n",
    "    if leafNode.parent != None:\n",
    "        prefixPath.append(leafNode.name)\n",
    "        ascendTree(leafNode.parent, prefixPath)\n",
    "        \n",
    "def findPrefixPath(basePat, treeNode):\n",
    "    condPats = {}\n",
    "    # 对树上节点的nodeLink值进行循环\n",
    "    while treeNode != None:\n",
    "        prefixPath = []\n",
    "        # 寻找该节点的到根节点的路径\n",
    "        ascendTree(treeNode, prefixPath)\n",
    "        if (len(prefixPath)) > 1:\n",
    "            # prefixPath[1:]剔除当前节点\n",
    "            condPats[frozenset(prefixPath[1:])] = treeNode.count\n",
    "        treeNode = treeNode.nodeLink\n",
    "    return condPats"
   ]
  },
  {
   "cell_type": "code",
   "execution_count": 46,
   "metadata": {},
   "outputs": [
    {
     "data": {
      "text/plain": [
       "{frozenset({'z'}): 1, frozenset({'s', 'x'}): 1, frozenset({'x', 'y', 'z'}): 1}"
      ]
     },
     "execution_count": 46,
     "metadata": {},
     "output_type": "execute_result"
    }
   ],
   "source": [
    "findPrefixPath('r', myHeaderTab['r'][1])"
   ]
  },
  {
   "cell_type": "markdown",
   "metadata": {},
   "source": [
    "### b. 创建条件FP树\n",
    "使用上面的条件模式基作为输入数据，按照最小支持度要求，不断生成当前元素的频繁项集。"
   ]
  },
  {
   "cell_type": "code",
   "execution_count": 71,
   "metadata": {},
   "outputs": [],
   "source": [
    "def mineTree(inTree, headerTable, minSup, preFix, freqItemList):\n",
    "    \"\"\"\n",
    "    创建条件FP树\n",
    "    \n",
    "    Parameters\n",
    "    -----------\n",
    "        inTree :        myFPtree\n",
    "        headerTable :   满足minSup的所有元素\n",
    "        minSup :        最小支持度\n",
    "        preFix :        preFix为newFreqSet上一次的存储记录\n",
    "        freqItemList :  用来存储频繁子项的列表\n",
    "    \"\"\"\n",
    "    \n",
    "    # 满足最小支持度的项集的key\n",
    "    bigL = [v[0] for v in sorted(headerTable.items(), key=lambda p: p[0])]\n",
    "#     print('-----', sorted(headerTable.items(), key=lambda p: p[1][0]))\n",
    "#     print('bigL=', bigL)\n",
    "    # 循环遍历最频繁的项集的key\n",
    "    for basePat in bigL:\n",
    "        newFreqSet = preFix.copy()\n",
    "        newFreqSet.add(basePat)\n",
    "#         print('newFreqSet=', newFreqSet, preFix)\n",
    "        \n",
    "        freqItemList.append(newFreqSet)\n",
    "#         print('freqItemList=', freqItemList)\n",
    "        condPattBases = findPrefixPath(basePat, headerTable[basePat][1])\n",
    "#         print('condPattBases=', basePat, condPattBases)\n",
    "        \n",
    "        # 构建FP树\n",
    "        myCondTree, myHead = createTree(condPattBases, minSup)\n",
    "        if myHead != None:\n",
    "            print('conditional tree for: ', newFreqSet)\n",
    "            myCondTree.disp()\n",
    "            print('\\n')\n",
    "            mineTree(myCondTree, myHead, minSup, newFreqSet, freqItemList)"
   ]
  },
  {
   "cell_type": "code",
   "execution_count": 72,
   "metadata": {},
   "outputs": [
    {
     "name": "stdout",
     "output_type": "stream",
     "text": [
      "conditional tree for:  {'s'}\n",
      "     Null Set   1\n",
      "         x   3\n",
      "\n",
      "\n",
      "conditional tree for:  {'t'}\n",
      "     Null Set   1\n",
      "         z   3\n",
      "             y   3\n",
      "                 x   3\n",
      "\n",
      "\n",
      "conditional tree for:  {'t', 'x'}\n",
      "     Null Set   1\n",
      "         y   3\n",
      "             z   3\n",
      "\n",
      "\n",
      "conditional tree for:  {'t', 'z', 'x'}\n",
      "     Null Set   1\n",
      "         y   3\n",
      "\n",
      "\n",
      "conditional tree for:  {'t', 'y'}\n",
      "     Null Set   1\n",
      "         z   3\n",
      "\n",
      "\n",
      "conditional tree for:  {'x'}\n",
      "     Null Set   1\n",
      "         z   3\n",
      "\n",
      "\n",
      "conditional tree for:  {'y'}\n",
      "     Null Set   1\n",
      "         z   3\n",
      "             x   3\n",
      "\n",
      "\n",
      "conditional tree for:  {'y', 'x'}\n",
      "     Null Set   1\n",
      "         z   3\n",
      "\n",
      "\n"
     ]
    }
   ],
   "source": [
    "freqItems = []\n",
    "mineTree(myFPtree, myHeaderTab, 3, set([]), freqItems)"
   ]
  },
  {
   "cell_type": "code",
   "execution_count": 73,
   "metadata": {},
   "outputs": [
    {
     "data": {
      "text/plain": [
       "[{'r'},\n",
       " {'s'},\n",
       " {'s', 'x'},\n",
       " {'t'},\n",
       " {'t', 'x'},\n",
       " {'t', 'x', 'y'},\n",
       " {'t', 'x', 'z'},\n",
       " {'t', 'x', 'y', 'z'},\n",
       " {'t', 'y'},\n",
       " {'t', 'y', 'z'},\n",
       " {'t', 'z'},\n",
       " {'x'},\n",
       " {'x', 'z'},\n",
       " {'y'},\n",
       " {'x', 'y'},\n",
       " {'x', 'y', 'z'},\n",
       " {'y', 'z'},\n",
       " {'z'}]"
      ]
     },
     "execution_count": 73,
     "metadata": {},
     "output_type": "execute_result"
    }
   ],
   "source": [
    "freqItems"
   ]
  },
  {
   "cell_type": "markdown",
   "metadata": {},
   "source": [
    "## 3. 从Twitter源中发现一些共现词\n",
    "发现Twitter中的共现词\n",
    "> 1. 收集数据:使用 Python-twitter 模块来访问推文。\n",
    "> 2. 准备数据:编写一个函数来去掉URL、去掉标点、转换成小写并从字符串中建立一个单词集合。\n",
    "> 3. 分析数据:在Python提示符下查看准备好的数据,确保它的正确性。\n",
    "> 4. 训练算法:使用本章前面开发的 createTree() 与 mineTree() 函数执行FP-growth算法。\n",
    "> 5. 测试算法:这里不适用。\n",
    "> 6. 使用算法:本例中没有包含具体应用,可以考虑用于情感分析或者查询推荐领域\n",
    "\n",
    "\n",
    "无法链接到Twitter。没有进行实验。"
   ]
  },
  {
   "cell_type": "markdown",
   "metadata": {},
   "source": [
    "## 4. 从新闻网站点击流中挖掘"
   ]
  },
  {
   "cell_type": "code",
   "execution_count": 76,
   "metadata": {},
   "outputs": [],
   "source": [
    "parsedDat = [line.split() for line in open('kosarak.dat').readlines()]"
   ]
  },
  {
   "cell_type": "code",
   "execution_count": 77,
   "metadata": {},
   "outputs": [],
   "source": [
    "initSet = createInitSet(parsedDat)\n",
    "# 构建FP树，寻找至少被10万人浏览过的新闻报道\n",
    "myFPtree, myHeaderTab = createTree(initSet, 100000)"
   ]
  },
  {
   "cell_type": "code",
   "execution_count": 78,
   "metadata": {},
   "outputs": [
    {
     "name": "stdout",
     "output_type": "stream",
     "text": [
      "conditional tree for:  {'1'}\n",
      "     Null Set   1\n",
      "         6   132113\n",
      "\n",
      "\n",
      "conditional tree for:  {'11'}\n",
      "     Null Set   1\n",
      "         6   324013\n",
      "             3   143682\n",
      "         3   17604\n",
      "\n",
      "\n",
      "conditional tree for:  {'11', '3'}\n",
      "     Null Set   1\n",
      "         6   143682\n",
      "\n",
      "\n",
      "conditional tree for:  {'3'}\n",
      "     Null Set   1\n",
      "         6   265180\n",
      "\n",
      "\n"
     ]
    }
   ],
   "source": [
    "myFreqList = []\n",
    "mineTree(myFPtree, myHeaderTab, 100000, set([]), myFreqList)"
   ]
  },
  {
   "cell_type": "code",
   "execution_count": 79,
   "metadata": {},
   "outputs": [
    {
     "data": {
      "text/plain": [
       "(9,\n",
       " [{'1'},\n",
       "  {'1', '6'},\n",
       "  {'11'},\n",
       "  {'11', '3'},\n",
       "  {'11', '3', '6'},\n",
       "  {'11', '6'},\n",
       "  {'3'},\n",
       "  {'3', '6'},\n",
       "  {'6'}])"
      ]
     },
     "execution_count": 79,
     "metadata": {},
     "output_type": "execute_result"
    }
   ],
   "source": [
    "len(myFreqList), myFreqList"
   ]
  },
  {
   "cell_type": "markdown",
   "metadata": {},
   "source": [
    "例如，表明1,6两者被10万人以上浏览过，他们两个具有强相关的联系。"
   ]
  }
 ],
 "metadata": {
  "kernelspec": {
   "display_name": "Python 3",
   "language": "python",
   "name": "python3"
  },
  "language_info": {
   "codemirror_mode": {
    "name": "ipython",
    "version": 3
   },
   "file_extension": ".py",
   "mimetype": "text/x-python",
   "name": "python",
   "nbconvert_exporter": "python",
   "pygments_lexer": "ipython3",
   "version": "3.7.0"
  }
 },
 "nbformat": 4,
 "nbformat_minor": 2
}
