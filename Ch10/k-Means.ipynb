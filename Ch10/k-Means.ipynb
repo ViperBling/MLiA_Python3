{
 "cells": [
  {
   "cell_type": "markdown",
   "metadata": {},
   "source": [
    "# K-Means\n",
    "k-Means:\n",
    "> 优点：容易实现<br>\n",
    "> 缺点：可能收敛到局部最小，在大规模数据集上收敛较慢<br>\n",
    "> 适用数据类型：数值型数据\n",
    "\n",
    "k-Means算法的一般流程：\n",
    "> 1. 收集数据:使用任意方法。\n",
    "> 2. 准备数据:需要数值型数据来计算距离,也可以将标称型数据映射为二值型数据再用于距离计算。\n",
    "> 3. 分析数据:使用任意方法。\n",
    "> 4. 训练算法:不适用于无监督学习,即无监督学习没有训练过程。\n",
    "> 5. 测试算法:应用聚类算法、观察结果。可以使用量化的误差指标如误差平方和(后面会介绍)来评价算法的结果。\n",
    "> 6. 使用算法:可以用于所希望的任何应用。通常情况下,簇质心可以代表整个簇的数据来做出决策。"
   ]
  },
  {
   "cell_type": "markdown",
   "metadata": {},
   "source": [
    "## 1. 算法实现"
   ]
  },
  {
   "cell_type": "code",
   "execution_count": 103,
   "metadata": {},
   "outputs": [],
   "source": [
    "import numpy as np\n",
    "import matplotlib.pyplot as plt\n",
    "import seaborn as sns\n",
    "import pandas as pd\n",
    "import urllib\n",
    "import json"
   ]
  },
  {
   "cell_type": "code",
   "execution_count": 12,
   "metadata": {},
   "outputs": [],
   "source": [
    "def loadDataSet(fileName):\n",
    "    dataMat = []\n",
    "    fr = open(fileName)\n",
    "    for line in fr.readlines():\n",
    "        curLine = line.strip().split('\\t')\n",
    "        fltLine = list(map(float, curLine))\n",
    "        dataMat.append(fltLine)\n",
    "    # 书中大量使用mat数据，感觉麻烦，直接使用np.array数组，需要的话再进行转换\n",
    "    return np.array(dataMat)\n",
    "\n",
    "def distEclud(vecA, vecB):\n",
    "    \"\"\"计算两个样本的距离\"\"\"\n",
    "    \n",
    "    return np.sqrt(np.sum(np.power(vecA - vecB, 2)))\n",
    "\n",
    "def randCent(dataSet, k):\n",
    "    \"\"\"\n",
    "    初始化k个质心，随机质心必须在这个数据集的边界范围之内。\n",
    "    可以通过找到数据集每一列的最大值和最小值\n",
    "    来完成。然后生成0到1.0之间的随机数并通过最小值和取值范围来完成范围内取值。\n",
    "    \"\"\"\n",
    "    \n",
    "    n = dataSet.shape[1]\n",
    "    centroids = np.zeros((k, n))\n",
    "    for j in range(n):\n",
    "        # 计算每列的最小值\n",
    "        minJ = min(dataSet[:, j])\n",
    "        # 计算每列的取值范围\n",
    "        rangeJ = float(max(dataSet[:, j]) - minJ)\n",
    "        # 在数据集范围内生成随机点\n",
    "        centroids[:, j] = minJ + rangeJ * np.random.rand(k)\n",
    "    return centroids"
   ]
  },
  {
   "cell_type": "code",
   "execution_count": 13,
   "metadata": {},
   "outputs": [
    {
     "data": {
      "text/plain": [
       "(matrix([[-5.379713]]),\n",
       " matrix([[-4.232586]]),\n",
       " matrix([[5.1904]]),\n",
       " matrix([[4.838138]]))"
      ]
     },
     "execution_count": 13,
     "metadata": {},
     "output_type": "execute_result"
    }
   ],
   "source": [
    "datMat = np.mat(loadDataSet('testSet.txt'))\n",
    "min(datMat[:, 0]), min(datMat[:, 1]), max(datMat[:, 1]), max(datMat[:, 0])"
   ]
  },
  {
   "cell_type": "code",
   "execution_count": 14,
   "metadata": {},
   "outputs": [
    {
     "data": {
      "text/plain": [
       "array([[-0.79050175,  3.90434239],\n",
       "       [-3.5898987 ,  4.9553123 ]])"
      ]
     },
     "execution_count": 14,
     "metadata": {},
     "output_type": "execute_result"
    }
   ],
   "source": [
    "randCent(datMat, 2)"
   ]
  },
  {
   "cell_type": "code",
   "execution_count": 15,
   "metadata": {},
   "outputs": [
    {
     "data": {
      "text/plain": [
       "5.184632816681332"
      ]
     },
     "execution_count": 15,
     "metadata": {},
     "output_type": "execute_result"
    }
   ],
   "source": [
    "distEclud(datMat[0], datMat[1])"
   ]
  },
  {
   "cell_type": "markdown",
   "metadata": {},
   "source": [
    "函数测试完成，下面实现K-Means算法："
   ]
  },
  {
   "cell_type": "code",
   "execution_count": 52,
   "metadata": {},
   "outputs": [],
   "source": [
    "def kMeans(dataSet, k, distMeas=distEclud, createCent=randCent):\n",
    "    \"\"\"\n",
    "    创建k个质心，然后将每个点分配到最近的质心，再使用平均值重新计算质心。\n",
    "    \"\"\"\n",
    "    m = dataSet.shape[0]\n",
    "    # 初始化k个质心\n",
    "    centroids = createCent(dataSet, k)\n",
    "    # 初始化记录列表，主要记录每个点所属的簇，和该点到质心的距离平方作为误差值\n",
    "    clusterAssment = np.zeros((m, 2))\n",
    "    # 创建停止变量，当所有样本点经过距离计算所分配的质心无需改变的时候就可以停止迭代了\n",
    "    clusterChanged = True\n",
    "    while clusterChanged:\n",
    "        # 先将其置为否，如果不改变就停止迭代\n",
    "        clusterChanged = False\n",
    "        for i in range(m):\n",
    "            # 对每个样本点都要重新计算距离最小的质心，所以每个样本都要初始化一次\n",
    "            minDist = np.inf\n",
    "            minIndex = -1\n",
    "            for j in range(k):\n",
    "                # 计算当前样本到当前质心的距离\n",
    "                distJI = distMeas(centroids[j, :], dataSet[i, :])\n",
    "                if distJI < minDist:\n",
    "                    # 更新当前样本的最小距离和分配的质心\n",
    "                    minDist = distJI\n",
    "                    minIndex = j\n",
    "            # 跳出质心的循环，更新记录列表里面的值\n",
    "            # 如果当前样本点在记录列表里的质心索引和上面不符，则还需要进一步迭代，将停止变量置真。\n",
    "            if clusterAssment[i, 0] != minIndex:\n",
    "                clusterChanged = True\n",
    "            # 更新记录列表里当前样本点的值\n",
    "            clusterAssment[i, :] = minIndex, minDist ** 2\n",
    "        # 对每一个簇，需要计算其中所有点的均值并更新所分配的质心\n",
    "        for cent in range(k):\n",
    "            # 取出在记录列表第一列的索引值为当前质心的点\n",
    "            ptsInClust = dataSet[np.nonzero(clusterAssment[:, 0] == cent)]\n",
    "            # 更新质心\n",
    "            centroids[cent, :] = np.mean(ptsInClust, axis=0)\n",
    "    return centroids, clusterAssment"
   ]
  },
  {
   "cell_type": "code",
   "execution_count": 76,
   "metadata": {
    "scrolled": true
   },
   "outputs": [
    {
     "name": "stdout",
     "output_type": "stream",
     "text": [
      "<class 'numpy.ndarray'>\n"
     ]
    }
   ],
   "source": [
    "myCentroids, clustAssing = kMeans(datMat, 4)"
   ]
  },
  {
   "cell_type": "code",
   "execution_count": 80,
   "metadata": {
    "scrolled": false
   },
   "outputs": [
    {
     "data": {
      "image/png": "[encoded data removed]",
      "text/plain": [
       "<Figure size 473.625x432 with 1 Axes>"
      ]
     },
     "metadata": {},
     "output_type": "display_data"
    }
   ],
   "source": [
    "pltdf = pd.DataFrame(datMat)   # 转化成Dataframe\n",
    "# 由于目前还不知道怎么直接在np.array上增加元素，所以先转换成列表\n",
    "label = list(np.array(clustAssing[:, 0]).ravel().astype(int))\n",
    "label.insert(0, 0)\n",
    "# 转换成DataFrame，然后和上面得pltdf组成一个完整得DataFrame\n",
    "labeldf = pd.DataFrame(label)\n",
    "pltdata = pd.merge(pltdf, labeldf, left_index=True, right_index=True)\n",
    "pltdata.columns=['x1', 'x2', 'clus']   # 设置列标签\n",
    "sns.set(context='notebook', style='darkgrid', palette=sns.color_palette('hls', 4))\n",
    "\n",
    "sns.lmplot('x1', 'x2', data=pltdata,\n",
    "           hue='clus', \n",
    "           size=6, fit_reg=False, scatter_kws={\"s\": 50})\n",
    "plt.scatter(np.array(myCentroids[:, 0]), np.array(myCentroids[:, 1]), c='r')\n",
    "plt.show()"
   ]
  },
  {
   "cell_type": "markdown",
   "metadata": {},
   "source": [
    "## 2. 二分k-Means算法\n",
    "为克服K-均值算法收敛于局部最小值的问题,有人提出了另一个称为二分K-均值(bisecting K-means)的算法。该算法首先将所有点作为一个簇,然后将该簇一分为二。之后选择其中一个簇继续进行划分,选择哪一个簇进行划分取决于对其划分是否可以最大程度降低SSE的值。上述基于SSE的划分过程不断重复,直到得到用户指定的簇数目为止。"
   ]
  },
  {
   "cell_type": "code",
   "execution_count": 87,
   "metadata": {},
   "outputs": [],
   "source": [
    "def biKmeans(dataSet, k, distMeas=distEclud):\n",
    "    m = dataSet.shape[0]\n",
    "    # 初始化记录列表，主要记录每个点所属的簇，和该点到质心的距离平方作为误差值\n",
    "    clusterAssment = np.zeros((m, 2))\n",
    "    # 将整个数据集的均值点作为初始质心\n",
    "    # 书中使用的dataSet时矩阵形式，所以后面会跟个索引[0]，我们使用np.array则不需要\n",
    "    centroid0 = np.mean(dataSet, axis=0).tolist()\n",
    "    # 将初始质心保存到一个列表里\n",
    "    centList = [centroid0]\n",
    "    # 计算数据集中所有样本点到初始质心的平方误差，保存在记录列表的第二列里\n",
    "    for j in range(m):\n",
    "        clusterAssment[j, 1] = distMeas(np.mat(centroid0), dataSet[j, :]) ** 2\n",
    "    # 对簇不停的划分，直到得到想要的质心数量为止\n",
    "    while len(centList) < k:\n",
    "        # 初始化数据集的总误差，用来比较划分前后的SSE\n",
    "        lowestSSE = np.inf\n",
    "        # 遍历簇列表中所有的簇来决定最佳的划分，依据是划分完成后的误差值和当前误差值比较\n",
    "        for i in range(len(centList)):\n",
    "            # 对第i个簇，也就是第i个质心所属的数据集\n",
    "            # 把它看作一个独立的数据集执行k-Means算法，得到两个小簇。\n",
    "            # 首先取出数据集中属于当前簇的样本子集\n",
    "            ptsInCurrCluster = np.mat(dataSet[np.nonzero(clusterAssment[:, 0] == i), :])\n",
    "            # 进行划分\n",
    "            # centroidMat：基于当前子集的两个质心，splitClutAss：当前子集划分完成后的两个簇标记及误差\n",
    "            centroidMat, splitClustAss = kMeans(ptsInCurrCluster, 2, distMeas)\n",
    "            # 计算当前子集误差值和除第i个簇之外的数据集误差\n",
    "            sseSplit = np.sum(splitClustAss[:, 1])\n",
    "            sseNotSplit = np.sum(clusterAssment[np.nonzero(clusterAssment[:, 0] != i), :])\n",
    "            print('sseSplit, and notSplit: ', sseSplit, sseNotSplit)\n",
    "            # 如果这次的划分得到的误差小于之前的误差，那么保存本次划分\n",
    "            if sseSplit + sseNotSplit < lowestSSE:\n",
    "                # 更新最佳的待划分簇\n",
    "                bestCentToSplit = i\n",
    "                # 更新待划分簇的划分点\n",
    "                bestNewCents = centroidMat\n",
    "                # 保存此次划分的误差\n",
    "                bestClustAss = splitClustAss.copy()\n",
    "                # 更新误差\n",
    "                lowestSSE = sseSplit + sseNotSplit\n",
    "        # 对第i个簇操作完毕，质心数目加一回到主循环\n",
    "        # 更新簇划分结果\n",
    "        # 在调用k-Means算法，k=2时，会把数据集划分为编号为0, 1的两个簇，用它们更新即可\n",
    "        # 假设原先有2两个质心，这里增加了一个质心，len(centList)总比质心标号大1\n",
    "        # 新划分的数据集编号为0的用i作为编号不变，为1的用centList的长度作为编号，实现新分配编号的目的\n",
    "        bestClustAss[np.nonzero(bestClustAss[:, 0] == 1), 0] = len(centList)\n",
    "        bestClustAss[np.nonzero(bestClustAss[:, 0] == 0), 0] = bestCentToSplit\n",
    "        print('the bestCentToSplit is: ', bestCentToSplit)\n",
    "        print('the len of bestClustAss is: ', len(bestClustAss))\n",
    "        # 更新质心列表，第i个质心作为第一个质心\n",
    "        # 更新上面新增编号的为第二个质心\n",
    "        centList[bestCentToSplit] = bestNewCents[0, :].tolist()\n",
    "        centList.append(bestNewCents[1, :].tolist())\n",
    "        # 重新分配当前质心以及SSE\n",
    "        clusterAssment[np.nonzero(clusterAssment[:, 0] == bestCentToSplit), :] = bestClustAss\n",
    "    return np.mat(centList), clusterAssment"
   ]
  },
  {
   "cell_type": "code",
   "execution_count": 102,
   "metadata": {},
   "outputs": [
    {
     "name": "stdout",
     "output_type": "stream",
     "text": [
      "sseSplit, and notSplit:  453.0334895807502 0.0\n",
      "the bestCentToSplit is:  0\n",
      "the len of bestClustAss is:  60\n",
      "sseSplit, and notSplit:  77.59224931775066 49.157249444125355\n",
      "sseSplit, and notSplit:  12.753263136887313 423.87624013662486\n",
      "the bestCentToSplit is:  0\n",
      "the len of bestClustAss is:  40\n"
     ]
    },
    {
     "data": {
      "text/plain": [
       "matrix([[ 2.93386365,  3.12782785],\n",
       "        [-0.45965615, -2.7782156 ],\n",
       "        [-2.94737575,  3.3263781 ]])"
      ]
     },
     "execution_count": 102,
     "metadata": {},
     "output_type": "execute_result"
    }
   ],
   "source": [
    "datMat3 = loadDataSet('testSet2.txt')\n",
    "centList, myNewAssments = biKmeans(datMat3, 3)\n",
    "centList"
   ]
  },
  {
   "cell_type": "markdown",
   "metadata": {},
   "source": [
    "## 3. 对地图上的点进行聚类"
   ]
  },
  {
   "cell_type": "code",
   "execution_count": null,
   "metadata": {},
   "outputs": [],
   "source": [
    "def geoGrab(stAddress, city):\n",
    "    apiStem = 'http://where.yahooapis.com/geocode'\n",
    "    params = {}\n",
    "    params['flags'] = 'J'\n",
    "    params['appid'] = 'ppp68N8t'\n",
    "    params['location'] = '%s %s' % (stAddress, city)\n",
    "    url_params = urllib.urlencode(params)\n",
    "    yahooApi = api"
   ]
  },
  {
   "cell_type": "code",
   "execution_count": null,
   "metadata": {},
   "outputs": [],
   "source": []
  }
 ],
 "metadata": {
  "kernelspec": {
   "display_name": "Python 3",
   "language": "python",
   "name": "python3"
  },
  "language_info": {
   "codemirror_mode": {
    "name": "ipython",
    "version": 3
   },
   "file_extension": ".py",
   "mimetype": "text/x-python",
   "name": "python",
   "nbconvert_exporter": "python",
   "pygments_lexer": "ipython3",
   "version": "3.6.5"
  }
 },
 "nbformat": 4,
 "nbformat_minor": 2
}
