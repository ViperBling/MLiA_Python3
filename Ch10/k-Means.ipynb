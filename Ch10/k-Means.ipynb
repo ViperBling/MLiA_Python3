{
 "cells": [
  {
   "cell_type": "markdown",
   "metadata": {},
   "source": [
    "# K-Means\n",
    "k-Means:\n",
    "> 优点：容易实现<br>\n",
    "> 缺点：可能收敛到局部最小，在大规模数据集上收敛较慢<br>\n",
    "> 适用数据类型：数值型数据\n",
    "\n",
    "k-Means算法的一般流程：\n",
    "> 1. 收集数据:使用任意方法。\n",
    "> 2. 准备数据:需要数值型数据来计算距离,也可以将标称型数据映射为二值型数据再用于距离计算。\n",
    "> 3. 分析数据:使用任意方法。\n",
    "> 4. 训练算法:不适用于无监督学习,即无监督学习没有训练过程。\n",
    "> 5. 测试算法:应用聚类算法、观察结果。可以使用量化的误差指标如误差平方和(后面会介绍)来评价算法的结果。\n",
    "> 6. 使用算法:可以用于所希望的任何应用。通常情况下,簇质心可以代表整个簇的数据来做出决策。"
   ]
  },
  {
   "cell_type": "markdown",
   "metadata": {},
   "source": [
    "## 1. 算法实现"
   ]
  },
  {
   "cell_type": "code",
   "execution_count": 40,
   "metadata": {},
   "outputs": [],
   "source": [
    "import numpy as np\n",
    "import matplotlib.pyplot as plt\n",
    "import seaborn as sns\n",
    "import pandas as pd"
   ]
  },
  {
   "cell_type": "code",
   "execution_count": 8,
   "metadata": {},
   "outputs": [],
   "source": [
    "def loadDataSet(fileName):\n",
    "    dataMat = []\n",
    "    fr = open(fileName)\n",
    "    for line in fr.readlines():\n",
    "        curLine = line.strip().split('\\t')\n",
    "        fltLine = list(map(float, curLine))\n",
    "        dataMat.append(fltLine)\n",
    "    return dataMat\n",
    "\n",
    "def distEclud(vecA, vecB):\n",
    "    \"\"\"计算两个样本的距离\"\"\"\n",
    "    \n",
    "    return np.sqrt(np.sum(np.power(vecA - vecB, 2)))\n",
    "\n",
    "def randCent(dataSet, k):\n",
    "    \"\"\"\n",
    "    初始化k个质心，随机质心必须在这个数据集的边界范围之内。\n",
    "    可以通过找到数据集每一列的最大值和最小值\n",
    "    来完成。然后生成0到1.0之间的随机数并通过最小值和取值范围来完成范围内取值。\n",
    "    \"\"\"\n",
    "    \n",
    "    n = dataSet.shape[1]\n",
    "    centroids = np.mat(np.zeros((k, n)))\n",
    "    for j in range(n):\n",
    "        # 计算每列的最小值\n",
    "        minJ = min(dataSet[:, j])\n",
    "        # 计算每列的取值范围\n",
    "        rangeJ = float(max(dataSet[:, j]) - minJ)\n",
    "        # 在数据集范围内生成随机点\n",
    "        centroids[:, j] = minJ + rangeJ * np.random.rand(k, 1)\n",
    "    return centroids"
   ]
  },
  {
   "cell_type": "code",
   "execution_count": 9,
   "metadata": {},
   "outputs": [
    {
     "data": {
      "text/plain": [
       "(matrix([[-5.379713]]),\n",
       " matrix([[-4.232586]]),\n",
       " matrix([[5.1904]]),\n",
       " matrix([[4.838138]]))"
      ]
     },
     "execution_count": 9,
     "metadata": {},
     "output_type": "execute_result"
    }
   ],
   "source": [
    "datMat = np.mat(loadDataSet('testSet.txt'))\n",
    "min(datMat[:, 0]), min(datMat[:, 1]), max(datMat[:, 1]), max(datMat[:, 0])"
   ]
  },
  {
   "cell_type": "code",
   "execution_count": 10,
   "metadata": {},
   "outputs": [
    {
     "data": {
      "text/plain": [
       "matrix([[ 3.96122385,  0.96452983],\n",
       "        [-2.46546228,  4.82553859]])"
      ]
     },
     "execution_count": 10,
     "metadata": {},
     "output_type": "execute_result"
    }
   ],
   "source": [
    "randCent(datMat, 2)"
   ]
  },
  {
   "cell_type": "code",
   "execution_count": 11,
   "metadata": {},
   "outputs": [
    {
     "data": {
      "text/plain": [
       "5.184632816681332"
      ]
     },
     "execution_count": 11,
     "metadata": {},
     "output_type": "execute_result"
    }
   ],
   "source": [
    "distEclud(datMat[0], datMat[1])"
   ]
  },
  {
   "cell_type": "markdown",
   "metadata": {},
   "source": [
    "函数测试完成，下面实现K-Means算法："
   ]
  },
  {
   "cell_type": "code",
   "execution_count": 20,
   "metadata": {},
   "outputs": [],
   "source": [
    "def kMeans(dataSet, k, distMeas=distEclud, createCent=randCent):\n",
    "    \"\"\"\n",
    "    创建k个质心，然后将每个点分配到最近的质心，再使用平均值重新计算质心。\n",
    "    \"\"\"\n",
    "    \n",
    "    m = dataSet.shape[0]\n",
    "    # 初始化矩阵存储每个点的簇分配结果\n",
    "    # clusterAssment第一列存储簇索引，第二列记录每个点到该质心的距离\n",
    "    clusterAssment = np.mat(np.zeros((m, 2)))\n",
    "    # 初始化k个质心\n",
    "    centroids = createCent(dataSet, k)\n",
    "    # 初始化标志变量，用于判断迭代是否需要继续\n",
    "    clusterChanged = True\n",
    "    while clusterChanged:\n",
    "        clusterChanged = False\n",
    "        # 第一个循环，遍历所有数据将其按距离划分到k个质心上\n",
    "        for i in range(m):\n",
    "            minDist = np.inf; minIndex = -1\n",
    "            for j in range(k):\n",
    "                # 计算第i个样本点距当前第j个质心的距离\n",
    "                distJI = distMeas(centroids[j, :], dataSet[i, :])\n",
    "                if distJI < minDist:\n",
    "                    # 更新最小距离和当前样本所属的质心\n",
    "                    minDist = distJI\n",
    "                    minIndex = j\n",
    "            # 如果任一点的质心分配结果发生改变，更新标志，继续迭代\n",
    "            if clusterAssment[i, 0] != minIndex:\n",
    "                clusterChanged = True\n",
    "            # 更新簇分配结果为距离最小的质心的索引和最小距离的平方\n",
    "            clusterAssment[i, :] = minIndex, minDist ** 2\n",
    "        # 输出当前样本的质心\n",
    "        print(centroids)\n",
    "        # 遍历所有的质心并更新他们的取值\n",
    "        for cent in range(k):\n",
    "            # 通过数组过滤来获得给定簇的所有点\n",
    "            ptsInClust = dataSet[np.nonzero(clusterAssment[:, 0].A == cent)[0]]\n",
    "            # 计算所有点的均值，更新质心取值\n",
    "            centroids[cent, :] = np.mean(ptsInClust, axis=0)\n",
    "    # 返回所有k个质心和所有样本点的类别\n",
    "    return centroids, clusterAssment"
   ]
  },
  {
   "cell_type": "code",
   "execution_count": 22,
   "metadata": {
    "scrolled": true
   },
   "outputs": [
    {
     "name": "stdout",
     "output_type": "stream",
     "text": [
      "[[-4.29385173  2.02861099]\n",
      " [ 3.82716744 -3.08232432]\n",
      " [-3.07505371 -2.17937282]\n",
      " [-0.08105798  1.74220275]]\n",
      "[[-3.00984169  2.66771831]\n",
      " [ 2.97753205 -2.6512067 ]\n",
      " [-3.38237045 -2.9473363 ]\n",
      " [ 1.44206122  3.02350437]]\n",
      "[[-2.54951105  2.75812458]\n",
      " [ 2.80293085 -2.7315146 ]\n",
      " [-3.38237045 -2.9473363 ]\n",
      " [ 2.46383071  3.1198451 ]]\n",
      "[[-2.46154315  2.78737555]\n",
      " [ 2.80293085 -2.7315146 ]\n",
      " [-3.38237045 -2.9473363 ]\n",
      " [ 2.6265299   3.10868015]]\n"
     ]
    }
   ],
   "source": [
    "datMat = np.mat(loadDataSet('testSet.txt'))\n",
    "myCentroids, clustAssing = kMeans(datMat, 4)"
   ]
  },
  {
   "cell_type": "code",
   "execution_count": 100,
   "metadata": {},
   "outputs": [
    {
     "data": {
      "image/png": "[encoded data removed]",
      "text/plain": [
       "<Figure size 474.375x432 with 1 Axes>"
      ]
     },
     "metadata": {},
     "output_type": "display_data"
    }
   ],
   "source": [
    "pltdf = pd.DataFrame(datMat)\n",
    "label = list(np.array(clustAssing[:, 0]).ravel().astype(int))\n",
    "label.insert(0, 0)\n",
    "labeldf = pd.DataFrame(label)\n",
    "pltdata = pd.merge(pltdf, labeldf, left_index=True, right_index=True)\n",
    "pltdata.columns=['x1', 'x2', 'clus']\n",
    "sns.set(context='notebook', style='darkgrid', palette=sns.color_palette('hls', 4))\n",
    "\n",
    "sns.lmplot('x1', 'x2', data=pltdata,\n",
    "           hue='clus', \n",
    "           size=6, fit_reg=False, scatter_kws={\"s\": 50})\n",
    "plt.scatter(np.array(myCentroids[:, 0]), np.array(myCentroids[:, 1]), c='r')\n",
    "plt.show()"
   ]
  },
  {
   "cell_type": "markdown",
   "metadata": {},
   "source": [
    "## 2. 二分k-Means算法\n",
    "为克服K-均值算法收敛于局部最小值的问题,有人提出了另一个称为二分K-均值(bisecting K-means)的算法。该算法首先将所有点作为一个簇,然后将该簇一分为二。之后选择其中一个簇继续进行划分,选择哪一个簇进行划分取决于对其划分是否可以最大程度降低SSE的值。上述基于SSE的划分过程不断重复,直到得到用户指定的簇数目为止。"
   ]
  },
  {
   "cell_type": "code",
   "execution_count": null,
   "metadata": {},
   "outputs": [],
   "source": [
    "def biKmeans(dataSet, k, distMeas=distEclud):\n",
    "    m = dataSet.shape[0]"
   ]
  }
 ],
 "metadata": {
  "kernelspec": {
   "display_name": "Python 3",
   "language": "python",
   "name": "python3"
  },
  "language_info": {
   "codemirror_mode": {
    "name": "ipython",
    "version": 3
   },
   "file_extension": ".py",
   "mimetype": "text/x-python",
   "name": "python",
   "nbconvert_exporter": "python",
   "pygments_lexer": "ipython3",
   "version": "3.6.5"
  }
 },
 "nbformat": 4,
 "nbformat_minor": 2
}
