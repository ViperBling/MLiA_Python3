{
 "cells": [
  {
   "cell_type": "markdown",
   "metadata": {},
   "source": [
    "# Naive Bayes"
   ]
  },
  {
   "cell_type": "markdown",
   "metadata": {},
   "source": [
    "Naive Bayes的优缺点\n",
    "> 优点：在数据较少的情况下仍然有效，可以处理多类别问题。<br>\n",
    "> 缺点：对输入数据的准备方式较为敏感。<br>\n",
    "> 适用数据类型：标称型数据。<br>\n",
    "\n",
    "朴素贝叶斯的一般过程\n",
    "> 1. 收集数据：可以使用任何方法。本章使用RSS源。\n",
    "> 2. 准备数据：需要数值型或者布尔型数据。\n",
    "> 3. 分析数据：有大量特征时，绘制特征作用不大，此时使用直方图效果更好。\n",
    "> 4. 训练算法：计算不同的独立特征的条件概率。\n",
    "> 5. 测试算法：计算错误率。\n",
    "> 6. 使用算法：文档分类等。"
   ]
  },
  {
   "cell_type": "code",
   "execution_count": 1,
   "metadata": {},
   "outputs": [],
   "source": [
    "import numpy as np"
   ]
  },
  {
   "cell_type": "markdown",
   "metadata": {},
   "source": [
    "## 1. 算法实现\n",
    "### a.从文本中构建词向量"
   ]
  },
  {
   "cell_type": "code",
   "execution_count": 3,
   "metadata": {},
   "outputs": [],
   "source": [
    "def loadDataSet():\n",
    "    postingList = [['my', 'dog', 'has', 'flea', 'problems', 'help', 'please'],\n",
    "                   ['maybe', 'not', 'take', 'him', 'to', 'dog', 'park', 'stupid'],\n",
    "                   ['my', 'dalmation', 'is', 'so', 'cute', 'I', 'love', 'him'],\n",
    "                   ['stop', 'posting', 'stupid', 'worthless', 'garbage'],\n",
    "                   ['mr', 'licks', 'ate', 'my', 'steak', 'how', 'to', 'stop', 'him'],\n",
    "                   ['quit', 'buying', 'worthless', 'dog', 'food', 'stupid']]\n",
    "    classVec = [0, 1, 0, 1, 0, 1]\n",
    "    return postingList, classVec\n",
    "\n",
    "def createVocabList(dataSet):\n",
    "    \"\"\"Return set of All words.\"\"\"\n",
    "    \n",
    "    vocabSet = set()\n",
    "    for document in dataSet:\n",
    "        vocabSet = vocabSet | set(document)\n",
    "    return list(vocabSet)\n",
    "\n",
    "def setOfWords2Vec(vocabList, inputSet):\n",
    "    \"\"\"\n",
    "    遍历查看该单词是否出现，出现则将单词置1\n",
    "    \n",
    "    Parameters\n",
    "    -----------\n",
    "    vocabList : 所有单词的集合列表\n",
    "    inputSet : 输入数据集\n",
    "    \n",
    "    Return\n",
    "    -----------\n",
    "    returnVec : 匹配列表\n",
    "    \"\"\"\n",
    "    \n",
    "    returnVec = [0] * len(vocabList)\n",
    "    for word in inputSet:\n",
    "        if word in inputSet:\n",
    "            returnVec[vocabList.index(word)] = 1\n",
    "        else:\n",
    "            print(\"the word: %s is not in my Vocabulary!\" % word)\n",
    "    return returnVec"
   ]
  },
  {
   "cell_type": "code",
   "execution_count": 4,
   "metadata": {},
   "outputs": [
    {
     "data": {
      "text/plain": [
       "['dog',\n",
       " 'cute',\n",
       " 'him',\n",
       " 'park',\n",
       " 'how',\n",
       " 'quit',\n",
       " 'my',\n",
       " 'worthless',\n",
       " 'ate',\n",
       " 'dalmation',\n",
       " 'I',\n",
       " 'take',\n",
       " 'to',\n",
       " 'love',\n",
       " 'maybe',\n",
       " 'has',\n",
       " 'posting',\n",
       " 'steak',\n",
       " 'garbage',\n",
       " 'not',\n",
       " 'mr',\n",
       " 'food',\n",
       " 'licks',\n",
       " 'stop',\n",
       " 'flea',\n",
       " 'problems',\n",
       " 'please',\n",
       " 'stupid',\n",
       " 'buying',\n",
       " 'help',\n",
       " 'so',\n",
       " 'is']"
      ]
     },
     "execution_count": 4,
     "metadata": {},
     "output_type": "execute_result"
    }
   ],
   "source": [
    "listOPosts, listClasses = loadDataSet()\n",
    "myVocabList = createVocabList(listOPosts)\n",
    "myVocabList # 所有单词的集合，不含重复单词"
   ]
  },
  {
   "cell_type": "code",
   "execution_count": 5,
   "metadata": {},
   "outputs": [
    {
     "data": {
      "text/plain": [
       "[1,\n",
       " 0,\n",
       " 0,\n",
       " 0,\n",
       " 0,\n",
       " 0,\n",
       " 1,\n",
       " 0,\n",
       " 0,\n",
       " 0,\n",
       " 0,\n",
       " 0,\n",
       " 0,\n",
       " 0,\n",
       " 0,\n",
       " 1,\n",
       " 0,\n",
       " 0,\n",
       " 0,\n",
       " 0,\n",
       " 0,\n",
       " 0,\n",
       " 0,\n",
       " 0,\n",
       " 1,\n",
       " 1,\n",
       " 1,\n",
       " 0,\n",
       " 0,\n",
       " 1,\n",
       " 0,\n",
       " 0]"
      ]
     },
     "execution_count": 5,
     "metadata": {},
     "output_type": "execute_result"
    }
   ],
   "source": [
    "# 查看输入样本中的单词在单词表中的分布情况\n",
    "setOfWords2Vec(myVocabList, listOPosts[0])"
   ]
  },
  {
   "cell_type": "code",
   "execution_count": null,
   "metadata": {},
   "outputs": [],
   "source": []
  }
 ],
 "metadata": {
  "kernelspec": {
   "display_name": "Python 3",
   "language": "python",
   "name": "python3"
  },
  "language_info": {
   "codemirror_mode": {
    "name": "ipython",
    "version": 3
   },
   "file_extension": ".py",
   "mimetype": "text/x-python",
   "name": "python",
   "nbconvert_exporter": "python",
   "pygments_lexer": "ipython3",
   "version": "3.6.5"
  }
 },
 "nbformat": 4,
 "nbformat_minor": 2
}
