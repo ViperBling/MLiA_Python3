{
 "cells": [
  {
   "cell_type": "markdown",
   "metadata": {},
   "source": [
    "# Naive Bayes"
   ]
  },
  {
   "cell_type": "markdown",
   "metadata": {},
   "source": [
    "Naive Bayes的优缺点\n",
    "> 优点：在数据较少的情况下仍然有效，可以处理多类别问题。<br>\n",
    "> 缺点：对输入数据的准备方式较为敏感。<br>\n",
    "> 适用数据类型：标称型数据。<br>\n",
    "\n",
    "朴素贝叶斯的一般过程\n",
    "> 1. 收集数据：可以使用任何方法。本章使用RSS源。\n",
    "> 2. 准备数据：需要数值型或者布尔型数据。\n",
    "> 3. 分析数据：有大量特征时，绘制特征作用不大，此时使用直方图效果更好。\n",
    "> 4. 训练算法：计算不同的独立特征的条件概率。\n",
    "> 5. 测试算法：计算错误率。\n",
    "> 6. 使用算法：文档分类等。"
   ]
  },
  {
   "cell_type": "code",
   "execution_count": 18,
   "metadata": {},
   "outputs": [],
   "source": [
    "import numpy as np\n",
    "import re\n",
    "import random"
   ]
  },
  {
   "cell_type": "markdown",
   "metadata": {},
   "source": [
    "## 1. 算法实现\n",
    "### a.从文本中构建词向量"
   ]
  },
  {
   "cell_type": "code",
   "execution_count": 2,
   "metadata": {},
   "outputs": [],
   "source": [
    "def loadDataSet():\n",
    "    postingList = [['my', 'dog', 'has', 'flea', 'problems', 'help', 'please'],\n",
    "                   ['maybe', 'not', 'take', 'him', 'to', 'dog', 'park', 'stupid'],\n",
    "                   ['my', 'dalmation', 'is', 'so', 'cute', 'I', 'love', 'him'],\n",
    "                   ['stop', 'posting', 'stupid', 'worthless', 'garbage'],\n",
    "                   ['mr', 'licks', 'ate', 'my', 'steak', 'how', 'to', 'stop', 'him'],\n",
    "                   ['quit', 'buying', 'worthless', 'dog', 'food', 'stupid']]\n",
    "    classVec = [0, 1, 0, 1, 0, 1]\n",
    "    return postingList, classVec\n",
    "\n",
    "def createVocabList(dataSet):\n",
    "    \"\"\"Return set of All words.\"\"\"\n",
    "    \n",
    "    vocabSet = set()\n",
    "    for document in dataSet:\n",
    "        # 计算集合的并\n",
    "        vocabSet = vocabSet | set(document)\n",
    "    return list(vocabSet)\n",
    "\n",
    "def setOfWords2Vec(vocabList, inputSet):\n",
    "    \"\"\"\n",
    "    遍历查看该单词是否出现，出现则将单词置1\n",
    "    \n",
    "    Parameters\n",
    "    -----------\n",
    "    vocabList : 所有单词的集合列表\n",
    "    inputSet : 输入数据集\n",
    "    \n",
    "    Return\n",
    "    -----------\n",
    "    returnVec : 匹配列表\n",
    "    \"\"\"\n",
    "    \n",
    "    returnVec = [0] * len(vocabList)\n",
    "    for word in inputSet:\n",
    "        if word in inputSet:\n",
    "            returnVec[vocabList.index(word)] = 1\n",
    "        else:\n",
    "            print(\"the word: %s is not in my Vocabulary!\" % word)\n",
    "    return returnVec"
   ]
  },
  {
   "cell_type": "code",
   "execution_count": 3,
   "metadata": {
    "scrolled": true
   },
   "outputs": [
    {
     "data": {
      "text/plain": [
       "['is',\n",
       " 'food',\n",
       " 'steak',\n",
       " 'has',\n",
       " 'so',\n",
       " 'buying',\n",
       " 'take',\n",
       " 'him',\n",
       " 'dalmation',\n",
       " 'help',\n",
       " 'garbage',\n",
       " 'quit',\n",
       " 'problems',\n",
       " 'cute',\n",
       " 'worthless',\n",
       " 'mr',\n",
       " 'to',\n",
       " 'posting',\n",
       " 'ate',\n",
       " 'park',\n",
       " 'my',\n",
       " 'stupid',\n",
       " 'flea',\n",
       " 'maybe',\n",
       " 'not',\n",
       " 'love',\n",
       " 'I',\n",
       " 'licks',\n",
       " 'stop',\n",
       " 'how',\n",
       " 'please',\n",
       " 'dog']"
      ]
     },
     "execution_count": 3,
     "metadata": {},
     "output_type": "execute_result"
    }
   ],
   "source": [
    "listOPosts, listClasses = loadDataSet()\n",
    "myVocabList = createVocabList(listOPosts)\n",
    "myVocabList # 所有单词的集合，不含重复单词"
   ]
  },
  {
   "cell_type": "code",
   "execution_count": 4,
   "metadata": {
    "scrolled": true
   },
   "outputs": [
    {
     "data": {
      "text/plain": [
       "[0,\n",
       " 0,\n",
       " 0,\n",
       " 1,\n",
       " 0,\n",
       " 0,\n",
       " 0,\n",
       " 0,\n",
       " 0,\n",
       " 1,\n",
       " 0,\n",
       " 0,\n",
       " 1,\n",
       " 0,\n",
       " 0,\n",
       " 0,\n",
       " 0,\n",
       " 0,\n",
       " 0,\n",
       " 0,\n",
       " 1,\n",
       " 0,\n",
       " 1,\n",
       " 0,\n",
       " 0,\n",
       " 0,\n",
       " 0,\n",
       " 0,\n",
       " 0,\n",
       " 0,\n",
       " 1,\n",
       " 1]"
      ]
     },
     "execution_count": 4,
     "metadata": {},
     "output_type": "execute_result"
    }
   ],
   "source": [
    "# 查看输入样本中的单词在单词表中的分布情况\n",
    "setOfWords2Vec(myVocabList, listOPosts[0])"
   ]
  },
  {
   "cell_type": "markdown",
   "metadata": {},
   "source": [
    "### b. 从词向量计算概率"
   ]
  },
  {
   "cell_type": "code",
   "execution_count": 5,
   "metadata": {},
   "outputs": [],
   "source": [
    "def trainNB0(trainMatrix, trainCategory):\n",
    "    \"\"\"朴素贝叶斯分类Demo\n",
    "    \n",
    "    Parameters\n",
    "    -----------\n",
    "    trainMatrix : 总的输入文本\n",
    "    trainCategory : 文件对应的类别分类\n",
    "    \n",
    "    \"\"\"\n",
    "    numTrainDocs = len(trainMatrix)        # 训练文本的个数 \n",
    "    numWords = len(trainMatrix[0])         # 训练样本向量，也是上面setOfWord2Vec得到的结果。\n",
    "    # 因为侮辱性被标记为了1，所以计算数目时只要相加就可以了。这样也就得到了侮辱性文件个数的概率\n",
    "    # 即trainCategory中1的个数\n",
    "    pAbusive = np.sum(trainCategory) / float(numTrainDocs)\n",
    "    # p0Num：非侮辱性样本中所有词汇出现的频度；p1Num：侮辱性样本中所有词汇出现的频度\n",
    "    p0Num = np.zeros(numWords); p1Num = np.zeros(numWords)\n",
    "    # p0Denom：非侮辱性样本中词汇总量；p1Denom：侮辱性样本中词汇总量\n",
    "    p0Denom = 0.0; p1Denom = 0.0\n",
    "    \n",
    "    for i in range(numTrainDocs):\n",
    "        if trainCategory[i] == 1:\n",
    "            p1Num += trainMatrix[i]\n",
    "            p1Denom += np.sum(trainMatrix[i])\n",
    "        else:\n",
    "            p0Num += trainMatrix[i]\n",
    "            p0Denom += np.sum(trainMatrix[i])\n",
    "    p1Vect = p1Num / p1Denom\n",
    "    p0Vect = p0Num / p0Denom\n",
    "    return p0Vect, p1Vect, pAbusive"
   ]
  },
  {
   "cell_type": "code",
   "execution_count": 6,
   "metadata": {
    "scrolled": true
   },
   "outputs": [
    {
     "data": {
      "text/plain": [
       "[[0,\n",
       "  0,\n",
       "  0,\n",
       "  1,\n",
       "  0,\n",
       "  0,\n",
       "  0,\n",
       "  0,\n",
       "  0,\n",
       "  1,\n",
       "  0,\n",
       "  0,\n",
       "  1,\n",
       "  0,\n",
       "  0,\n",
       "  0,\n",
       "  0,\n",
       "  0,\n",
       "  0,\n",
       "  0,\n",
       "  1,\n",
       "  0,\n",
       "  1,\n",
       "  0,\n",
       "  0,\n",
       "  0,\n",
       "  0,\n",
       "  0,\n",
       "  0,\n",
       "  0,\n",
       "  1,\n",
       "  1]]"
      ]
     },
     "execution_count": 6,
     "metadata": {},
     "output_type": "execute_result"
    }
   ],
   "source": [
    "# 测试Demo版分类函数\n",
    "trainMat = []\n",
    "for postinDoc in listOPosts:\n",
    "    trainMat.append(setOfWords2Vec(myVocabList, postinDoc))\n",
    "trainMat[:1]"
   ]
  },
  {
   "cell_type": "code",
   "execution_count": 7,
   "metadata": {},
   "outputs": [
    {
     "name": "stdout",
     "output_type": "stream",
     "text": [
      "0.5 \n",
      "\n",
      "[0.04166667 0.         0.04166667 0.04166667 0.04166667 0.\n",
      " 0.         0.08333333 0.04166667 0.04166667 0.         0.\n",
      " 0.04166667 0.04166667 0.         0.04166667 0.04166667 0.\n",
      " 0.04166667 0.         0.125      0.         0.04166667 0.\n",
      " 0.         0.04166667 0.04166667 0.04166667 0.04166667 0.04166667\n",
      " 0.04166667 0.04166667] \n",
      "\n",
      " [0.         0.05263158 0.         0.         0.         0.05263158\n",
      " 0.05263158 0.05263158 0.         0.         0.05263158 0.05263158\n",
      " 0.         0.         0.10526316 0.         0.05263158 0.05263158\n",
      " 0.         0.05263158 0.         0.15789474 0.         0.05263158\n",
      " 0.05263158 0.         0.         0.         0.05263158 0.\n",
      " 0.         0.10526316]\n"
     ]
    }
   ],
   "source": [
    "p0V, p1V, pAb = trainNB0(trainMat, listClasses)\n",
    "print(pAb, \"\\n\")\n",
    "print(p0V, \"\\n\\n\", p1V)"
   ]
  },
  {
   "cell_type": "markdown",
   "metadata": {},
   "source": [
    "### c. 根据实际情况修改分类器"
   ]
  },
  {
   "cell_type": "markdown",
   "metadata": {},
   "source": [
    "在使用朴素贝叶斯分类器时：\n",
    "> 1. 由于一些概率值可能会为0，这样最后的乘积也就为0，为了避免这种情况，可以使用拉普拉斯算子，将所有词汇的出现次数初始化为1，分母初始化为2。\n",
    "> 2. 由于大部分概率值都很小，这样在做连积的时候会造成程序下溢。这里对成绩取对数，把求积转换成求和。\n",
    "\n",
    "对上面代码进行修改，得到新的函数。"
   ]
  },
  {
   "cell_type": "code",
   "execution_count": 8,
   "metadata": {},
   "outputs": [],
   "source": [
    "def trainNB(trainMatrix, trainCategory):\n",
    "    \"\"\"朴素贝叶斯分类Modify\n",
    "    \n",
    "    Parameters\n",
    "    -----------\n",
    "    trainMatrix : 总的输入文本\n",
    "    trainCategory : 文件对应的类别分类\n",
    "    \n",
    "    \"\"\"\n",
    "    numTrainDocs = len(trainMatrix)        # 训练文本的个数 \n",
    "    numWords = len(trainMatrix[0])         # 训练样本向量，也是上面setOfWord2Vec得到的结果。\n",
    "    pAbusive = np.sum(trainCategory) / float(numTrainDocs)\n",
    "    p0Num = np.ones(numWords); p1Num = np.ones(numWords)\n",
    "    p0Denom = 2.0; p1Denom = 2.0\n",
    "    \n",
    "    for i in range(numTrainDocs):\n",
    "        if trainCategory[i] == 1:\n",
    "            p1Num += trainMatrix[i]\n",
    "            p1Denom += np.sum(trainMatrix[i])\n",
    "        else:\n",
    "            p0Num += trainMatrix[i]\n",
    "            p0Denom += np.sum(trainMatrix[i])\n",
    "    p1Vect = np.log(p1Num / p1Denom)\n",
    "    p0Vect = np.log(p0Num / p0Denom)\n",
    "    return p0Vect, p1Vect, pAbusive"
   ]
  },
  {
   "cell_type": "code",
   "execution_count": 9,
   "metadata": {},
   "outputs": [],
   "source": [
    "def classifyNB(vec2Classify, p0Vec, p1Vec, pClass1):\n",
    "    p1 = np.sum(vec2Classify * p1Vec) + np.log(pClass1)\n",
    "    p0 = np.sum(vec2Classify * p0Vec) + np.log(1 - pClass1)   # 二分类，所以直接用1减\n",
    "    if p1 > p0:\n",
    "        return 1\n",
    "    else:\n",
    "        return 0\n",
    "    \n",
    "def testingNB():\n",
    "    \"\"\"测试朴素贝叶斯算法\"\"\"\n",
    "    \n",
    "    # 1. 加载数据集\n",
    "    listOPosts, listClasses = loadDataSet()\n",
    "    # 2. 创建单词集合\n",
    "    myVocabList = createVocabList(listOPosts)\n",
    "    trainMat = []\n",
    "    \n",
    "    # 3. 计算单词是否出现并创建样本矩阵\n",
    "    for postinDoc in listOPosts:\n",
    "        trainMat.append(setOfWords2Vec(myVocabList, postinDoc))\n",
    "    \n",
    "    # 4. 训练数据\n",
    "    p0V, p1V, pAb = trainNB(np.array(trainMat), np.array(listClasses))\n",
    "    # 5. 测试数据\n",
    "    testEntry = ['love', 'my', 'dalmation']\n",
    "    thisDoc = np.array(setOfWords2Vec(myVocabList, testEntry))\n",
    "    print(testEntry, 'classified as: ', classifyNB(thisDoc, p0V, p1V, pAb))\n",
    "    \n",
    "    testEntry = ['stupid', 'garbage']\n",
    "    thisDoc = np.array(setOfWords2Vec(myVocabList, testEntry))\n",
    "    print(testEntry, 'classified as: ', classifyNB(thisDoc, p0V, p1V, pAb))"
   ]
  },
  {
   "cell_type": "code",
   "execution_count": 10,
   "metadata": {},
   "outputs": [
    {
     "name": "stdout",
     "output_type": "stream",
     "text": [
      "['love', 'my', 'dalmation'] classified as:  0\n",
      "['stupid', 'garbage'] classified as:  1\n"
     ]
    }
   ],
   "source": [
    "testingNB()"
   ]
  },
  {
   "cell_type": "markdown",
   "metadata": {},
   "source": [
    "### d. 词袋模型\n",
    "在前面的处理方法中，将每个词是否出现作为一个特征，这种被称为词集模型。如果一个词在文档中不止出现过一次，这可能意味着包含该词是否出现在文档中所不能表达的某种信息，这种被成为词袋模型。修改前面的setOfWords2Vec函数为bagOfWords2VecMN。"
   ]
  },
  {
   "cell_type": "code",
   "execution_count": 11,
   "metadata": {},
   "outputs": [],
   "source": [
    "def bagOfWords2VecMN(vocabList, inputSet):\n",
    "    returnVec = [0] * len(vocabList)\n",
    "    for word in inputSet:\n",
    "        if word in vocabList:\n",
    "            returnVec[vocabList.index(word)] += 1\n",
    "    return returnVec"
   ]
  },
  {
   "cell_type": "markdown",
   "metadata": {},
   "source": [
    "## 3. 使用朴素贝叶斯过滤垃圾邮件"
   ]
  },
  {
   "cell_type": "markdown",
   "metadata": {},
   "source": [
    "使用朴素贝叶斯对电子邮件进行分类\n",
    "> 1. 收集数据：提供文本文件。\n",
    "> 2. 准备数据：将文本文件解析成词条向量。\n",
    "> 3. 分析数据：检查词条确保解析的正确性。\n",
    "> 4. 训练算法:使用我们之前建立的 trainNB0() 函数。\n",
    "> 5. 测试算法:使用 classifyNB() ,并且构建一个新的测试函数来计算文档集的错误率。\n",
    "> 6. 使用算法:构建一个完整的程序对一组文档进行分类,将错分的文档输出到屏幕上。"
   ]
  },
  {
   "cell_type": "markdown",
   "metadata": {},
   "source": [
    "### a. 文本切分\n",
    "对一个文本字符串可以使用string.split()方法进行切分。"
   ]
  },
  {
   "cell_type": "code",
   "execution_count": 12,
   "metadata": {
    "scrolled": true
   },
   "outputs": [
    {
     "data": {
      "text/plain": [
       "['This',\n",
       " 'book',\n",
       " 'is',\n",
       " 'the',\n",
       " 'best',\n",
       " 'book',\n",
       " 'on',\n",
       " 'Python',\n",
       " 'or',\n",
       " 'M.L.',\n",
       " 'I',\n",
       " 'have',\n",
       " 'ever',\n",
       " 'laid',\n",
       " 'eyes',\n",
       " 'upon.']"
      ]
     },
     "execution_count": 12,
     "metadata": {},
     "output_type": "execute_result"
    }
   ],
   "source": [
    "mySent = 'This book is the best book on Python or M.L. I have ever laid eyes upon.'\n",
    "mySent.split()"
   ]
  },
  {
   "cell_type": "markdown",
   "metadata": {},
   "source": [
    "可以看出文本被切分为单词，但是里面包含了标点符号。可以使用正则表达式。"
   ]
  },
  {
   "cell_type": "code",
   "execution_count": 17,
   "metadata": {},
   "outputs": [
    {
     "data": {
      "text/plain": [
       "['This',\n",
       " 'book',\n",
       " 'is',\n",
       " 'the',\n",
       " 'best',\n",
       " 'book',\n",
       " 'on',\n",
       " 'Python',\n",
       " 'or',\n",
       " 'M',\n",
       " 'L',\n",
       " 'I',\n",
       " 'have',\n",
       " 'ever',\n",
       " 'laid',\n",
       " 'eyes',\n",
       " 'upon',\n",
       " '']"
      ]
     },
     "execution_count": 17,
     "metadata": {},
     "output_type": "execute_result"
    }
   ],
   "source": [
    "regEx = re.compile('\\\\W+')       # W*会出现match empty patten\n",
    "listOfTokens = regEx.split(mySent)\n",
    "listOfTokens"
   ]
  },
  {
   "cell_type": "code",
   "execution_count": 16,
   "metadata": {},
   "outputs": [
    {
     "data": {
      "text/plain": [
       "['this',\n",
       " 'book',\n",
       " 'is',\n",
       " 'the',\n",
       " 'best',\n",
       " 'book',\n",
       " 'on',\n",
       " 'python',\n",
       " 'or',\n",
       " 'm',\n",
       " 'l',\n",
       " 'i',\n",
       " 'have',\n",
       " 'ever',\n",
       " 'laid',\n",
       " 'eyes',\n",
       " 'upon']"
      ]
     },
     "execution_count": 16,
     "metadata": {},
     "output_type": "execute_result"
    }
   ],
   "source": [
    "# 去除其中的空字符并转换为小写\n",
    "[tok.lower() for tok in listOfTokens if len(tok) > 0]"
   ]
  },
  {
   "cell_type": "markdown",
   "metadata": {},
   "source": [
    "### b. 测试算法"
   ]
  },
  {
   "cell_type": "code",
   "execution_count": 32,
   "metadata": {},
   "outputs": [],
   "source": [
    "def textParse(bigString):\n",
    "    \"\"\"文本切分\n",
    "    将文本转换成长度大于2的单个词汇\n",
    "    \n",
    "    \"\"\"\n",
    "    import re\n",
    "    listOfTokens = re.split(r'\\W+', bigString)\n",
    "    if len(listOfTokens) == 0:\n",
    "        print(listOfTokens)\n",
    "    return [tok.lower() for tok in listOfTokens if len(tok) > 2]\n",
    "\n",
    "def spamTest():\n",
    "    docList = []; classList = []; fullText = []\n",
    "    for i in range(1, 26):\n",
    "        # 样本中大部分文件都是ASCII text，但有一些文件编码格式是windows 1252，需要异常处理。\n",
    "        try:\n",
    "            wordList = textParse(open('email/spam/{}.txt'.format(i)).read())\n",
    "        except:\n",
    "            wordList = textParse(open('email/spam/{}.txt'.format(i), encoding='Windows 1252').read())\n",
    "        # append将可迭代元素整个加入，extend将可迭代元素逐个加入\n",
    "        # docList为所有训练的样本\n",
    "        docList.append(wordList)\n",
    "        fullText.extend(wordList)   # fullText为所有词汇的集合\n",
    "        classList.append(1)\n",
    "        try:\n",
    "            wordList = textParse(open('email/ham/{}.txt'.format(i)).read())\n",
    "        except:\n",
    "            wordList = textParse(open('email/ham/{}.txt'.format(i), encoding='Windows 1252').read())\n",
    "        docList.append(wordList)\n",
    "        fullText.extend(wordList)\n",
    "        classList.append(0)\n",
    "    # 获取样本中出现的所有词汇\n",
    "    vocabList = createVocabList(docList)\n",
    "    # 设置训练集和测试集大小，测试集包含10个样本\n",
    "    testSet = [int(num) for num in random.sample(range(50), 10)]\n",
    "    trainingSet = list(set(range(50)) - set(testSet))\n",
    "    \n",
    "    # 训练模型\n",
    "    trainMat = []; trainClasses = []\n",
    "    for docIndex in trainingSet:\n",
    "        # 生成包含所有样本的特征矩阵\n",
    "        trainMat.append(setOfWords2Vec(vocabList, docList[docIndex]))\n",
    "        trainClasses.append(classList[docIndex])\n",
    "    p0V, p1V, pSpam = trainNB(np.array(trainMat), np.array(trainClasses))\n",
    "    \n",
    "    # 测试模型\n",
    "    errorCount = 0\n",
    "    for docIndex in testSet:\n",
    "        wordVector = setOfWords2Vec(vocabList, docList[docIndex])\n",
    "        if classifyNB(np.array(wordVector), p0V, p1V, pSpam) != classList[docIndex]:\n",
    "            errorCount += 1\n",
    "    print('The error rate is: {}'.format(float(errorCount) / len(testSet)))"
   ]
  },
  {
   "cell_type": "code",
   "execution_count": 33,
   "metadata": {},
   "outputs": [
    {
     "name": "stdout",
     "output_type": "stream",
     "text": [
      "The error rate is: 0.1\n"
     ]
    }
   ],
   "source": [
    "spamTest()"
   ]
  },
  {
   "cell_type": "markdown",
   "metadata": {},
   "source": [
    "## 4. 使用朴素贝叶斯从个人广告中获取区域倾向\n",
    "使用朴素贝叶斯发现地域相关用词\n",
    "> 1. 收集数据：从RSS源收集内容，需要对RSS源构建一个接口。\n",
    "> 2. 准备数据：从文本文件解析成词条向量。\n",
    "> 3. 分析数据：检查词条确保解析正确。\n",
    "> 4. 训练算法：使用我们之前建立的trainNB0函数。\n",
    "> 5. 测试算法：观察错误率，确保分类器可用。可以通过修改切分程序提升分类结果。\n",
    "> 6. 使用算法：构建一个完整的程序，封装所有内容。给定两个RSS源，该程序会显示最常用的公共词。"
   ]
  },
  {
   "cell_type": "code",
   "execution_count": 6,
   "metadata": {},
   "outputs": [],
   "source": [
    "import feedparser"
   ]
  },
  {
   "cell_type": "code",
   "execution_count": null,
   "metadata": {},
   "outputs": [],
   "source": [
    "# 使用Craigslist上的个人广告，RSS源出现问题，不能连接\n",
    "ny = feedparser.parse('http://newyork.craigslist.org/stp/index.rss')"
   ]
  },
  {
   "cell_type": "markdown",
   "metadata": {},
   "source": [
    "下面构建代码实现测试自动化"
   ]
  },
  {
   "cell_type": "code",
   "execution_count": null,
   "metadata": {},
   "outputs": [],
   "source": [
    "def calcMostFreq(vocabList, fullText):\n",
    "    \"\"\"遍历词汇表中的每个词，并统计出现次数\n",
    "       返回出现次数最高的100个单词。\n",
    "    \"\"\"\n",
    "    import operator\n",
    "    freqDict = {}\n",
    "    for token in vocabList:\n",
    "        freqDict[token] = fullText.count(token)\n",
    "    sortedFreq = sorted(freqDict.iteritems(), key=operator.itemgetter(1), reverse=True)\n",
    "    return sortedFreq[:30]\n",
    "\n",
    "def localWords(feed1, feed0):\n",
    "    \"\"\"和上面的spamTest类似\"\"\"\n",
    "    docList = []; classList = []; fullText = []\n",
    "    minLen = min(len(feed1['entries']), len(feed0['entries']))\n",
    "    for i in range(minLen):\n",
    "        wordList = textParse(feed1['entries'][i]['summary'])\n",
    "        docList.append(wordList)\n",
    "        fullText.extend(wordList)\n",
    "        classList.append(1)\n",
    "        wordList = textParse(feed0['entries'][i]['summary'])\n",
    "        docList.append(wordList)\n",
    "        fullText.extend(wordList)\n",
    "        classList.append(0)\n",
    "    vocabList = createVocabList(docList)\n",
    "    # 去掉高频词\n",
    "    top30Words = calcMostFreq(vocabList, fullText)\n",
    "    for pairW in top30Words:\n",
    "        if pairW[0] in vocabList:\n",
    "            vocabList.remove(pairW[0])\n",
    "    \n",
    "    # 获取训练数据和测试数据\n",
    "    testSet = [int(num) for num in random.sample(range(2 * minLen), 20)]\n",
    "    trainingSet = list(set(range(2 * minLen)) - set(testSet))\n",
    "    \n",
    "    trainMat = []; trainClasses = []\n",
    "    for docIndex in trainingSet:\n",
    "        trainMat.append(bagOfWords2VecMN(vocabList, docList[docIndex]))\n",
    "        trainClasses.append(classList[docIndex])\n",
    "    p0V, p1V, pSpam = trainNB(np.array(trainMat), np.array(trainClasses))\n",
    "    \n",
    "    # 计算错误率\n",
    "    errorCount = 0\n",
    "    for docIndex in testSet:\n",
    "        wordVector = bagOfWords2VecMN(vocabList, docList[docIndex])\n",
    "        if classifyNB(np.array(wordVector), p0V, p1V, pSpam) != classList[docIndex]:\n",
    "            errorCount += 1\n",
    "    print(\"The error rate is: {}\".format(float(errorCount) / len(testSet)))\n",
    "    return vocabList, p0V, p1V"
   ]
  },
  {
   "cell_type": "code",
   "execution_count": null,
   "metadata": {},
   "outputs": [],
   "source": [
    "def testRss():\n",
    "    ny = feedparser.parse('http://newyork.craigslist.org/stp/index.rss')\n",
    "    sf = feedparser.parse('http://sfbay.craigslist.org/stp/index.rss')\n",
    "    vocabList, pSF, pNY = localWords(ny, sf)"
   ]
  },
  {
   "cell_type": "code",
   "execution_count": null,
   "metadata": {},
   "outputs": [],
   "source": [
    "testRss()"
   ]
  },
  {
   "cell_type": "markdown",
   "metadata": {},
   "source": [
    "显示地域相关的用词"
   ]
  },
  {
   "cell_type": "code",
   "execution_count": null,
   "metadata": {},
   "outputs": [],
   "source": [
    "def getTopWords(ny, sf):\n",
    "    import operator\n",
    "    vocabList, p0V, p1V = locaWords(ny, sf)\n",
    "    topNY = []; topSF=[]\n",
    "    for i in range(len(p0V)):\n",
    "        if p0V[i] > -6.0: topSF.append((vocabList[i], p0V[i]))\n",
    "        if p1V[i] > -6.0: topNY.append((vocabList[i], p1V[i]))\n",
    "    sortedSF = sorted(topSF, key=lambda pair: pair[1], reverse=True)\n",
    "    sortedNY = sorted(topNY, key=lambda pair: pair[1], reverse=True)\n",
    "    print(\"SF**SF**SF**SF**SF**SF**SF**SF**SF**SF**SF**SF**SF**SF**SF**\")\n",
    "    for item in sortedSF:\n",
    "        print(item[0])\n",
    "    print(\"NY**NY**NY**NY**NY**NY**NY**NY**NY**NY**NY**NY**NY**NY**NY**\")\n",
    "    for item in sortedNY:\n",
    "        print(item[0])"
   ]
  },
  {
   "cell_type": "markdown",
   "metadata": {},
   "source": [
    "## Sklearn实现"
   ]
  },
  {
   "cell_type": "code",
   "execution_count": 1,
   "metadata": {},
   "outputs": [],
   "source": [
    "import numpy as np\n",
    "from sklearn.naive_bayes import GaussianNB"
   ]
  },
  {
   "cell_type": "code",
   "execution_count": 2,
   "metadata": {},
   "outputs": [
    {
     "name": "stdout",
     "output_type": "stream",
     "text": [
      "[1]\n",
      "[1]\n"
     ]
    }
   ],
   "source": [
    "# GaussianNB: 高斯朴素贝叶斯\n",
    "X = np.array([[-1, -1], [-2, -1], [-3, -2], [1, 1], [2, 1], [3, 2]])\n",
    "Y = np.array([1, 1, 1, 2, 2, 2])\n",
    "clf = GaussianNB()\n",
    "clf.fit(X, Y)\n",
    "print(clf.predict([[-0.8, -1]]))\n",
    "clf_pf = GaussianNB()\n",
    "clf_pf.partial_fit(X, Y, np.unique(Y))\n",
    "print(clf_pf.predict([[-0.8, -1]]))"
   ]
  },
  {
   "cell_type": "code",
   "execution_count": 4,
   "metadata": {},
   "outputs": [
    {
     "name": "stdout",
     "output_type": "stream",
     "text": [
      "[3]\n"
     ]
    }
   ],
   "source": [
    "# MultinomialNB: 多项式朴素贝叶斯\n",
    "X = np.random.randint(5, size=(6, 100))\n",
    "y = np.array([1, 2, 3, 4, 5, 6])\n",
    "from sklearn.naive_bayes import MultinomialNB\n",
    "clf = MultinomialNB()\n",
    "clf.fit(X, y)\n",
    "print(clf.predict(X[2:3]))"
   ]
  },
  {
   "cell_type": "code",
   "execution_count": 5,
   "metadata": {},
   "outputs": [
    {
     "name": "stdout",
     "output_type": "stream",
     "text": [
      "[3]\n"
     ]
    }
   ],
   "source": [
    "# BernoulliNB: 伯努利朴素贝叶斯\n",
    "X = np.random.randint(2, size=(6, 100))\n",
    "Y = np.array([1, 2, 3, 4, 4, 5])\n",
    "from sklearn.naive_bayes import BernoulliNB\n",
    "clf = BernoulliNB()\n",
    "clf.fit(X, Y)\n",
    "print(clf.predict(X[2:3]))"
   ]
  },
  {
   "cell_type": "code",
   "execution_count": null,
   "metadata": {},
   "outputs": [],
   "source": []
  }
 ],
 "metadata": {
  "kernelspec": {
   "display_name": "Python 3",
   "language": "python",
   "name": "python3"
  },
  "language_info": {
   "codemirror_mode": {
    "name": "ipython",
    "version": 3
   },
   "file_extension": ".py",
   "mimetype": "text/x-python",
   "name": "python",
   "nbconvert_exporter": "python",
   "pygments_lexer": "ipython3",
   "version": "3.6.5"
  }
 },
 "nbformat": 4,
 "nbformat_minor": 2
}
