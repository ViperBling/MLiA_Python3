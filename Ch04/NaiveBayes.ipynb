{
 "cells": [
  {
   "cell_type": "markdown",
   "metadata": {},
   "source": [
    "# Naive Bayes"
   ]
  },
  {
   "cell_type": "markdown",
   "metadata": {},
   "source": [
    "Naive Bayes的优缺点\n",
    "> 优点：在数据较少的情况下仍然有效，可以处理多类别问题。<br>\n",
    "> 缺点：对输入数据的准备方式较为敏感。<br>\n",
    "> 适用数据类型：标称型数据。<br>\n",
    "\n",
    "朴素贝叶斯的一般过程\n",
    "> 1. 收集数据：可以使用任何方法。本章使用RSS源。\n",
    "> 2. 准备数据：需要数值型或者布尔型数据。\n",
    "> 3. 分析数据：有大量特征时，绘制特征作用不大，此时使用直方图效果更好。\n",
    "> 4. 训练算法：计算不同的独立特征的条件概率。\n",
    "> 5. 测试算法：计算错误率。\n",
    "> 6. 使用算法：文档分类等。"
   ]
  },
  {
   "cell_type": "code",
   "execution_count": 1,
   "metadata": {},
   "outputs": [],
   "source": [
    "import numpy as np"
   ]
  },
  {
   "cell_type": "markdown",
   "metadata": {},
   "source": [
    "## 1. 算法实现\n",
    "### a.从文本中构建词向量"
   ]
  },
  {
   "cell_type": "code",
   "execution_count": 2,
   "metadata": {},
   "outputs": [],
   "source": [
    "def loadDataSet():\n",
    "    postingList = [['my', 'dog', 'has', 'flea', 'problems', 'help', 'please'],\n",
    "                   ['maybe', 'not', 'take', 'him', 'to', 'dog', 'park', 'stupid'],\n",
    "                   ['my', 'dalmation', 'is', 'so', 'cute', 'I', 'love', 'him'],\n",
    "                   ['stop', 'posting', 'stupid', 'worthless', 'garbage'],\n",
    "                   ['mr', 'licks', 'ate', 'my', 'steak', 'how', 'to', 'stop', 'him'],\n",
    "                   ['quit', 'buying', 'worthless', 'dog', 'food', 'stupid']]\n",
    "    classVec = [0, 1, 0, 1, 0, 1]\n",
    "    return postingList, classVec\n",
    "\n",
    "def createVocabList(dataSet):\n",
    "    \"\"\"Return set of All words.\"\"\"\n",
    "    \n",
    "    vocabSet = set()\n",
    "    for document in dataSet:\n",
    "        # 计算集合的并\n",
    "        vocabSet = vocabSet | set(document)\n",
    "    return list(vocabSet)\n",
    "\n",
    "def setOfWords2Vec(vocabList, inputSet):\n",
    "    \"\"\"\n",
    "    遍历查看该单词是否出现，出现则将单词置1\n",
    "    \n",
    "    Parameters\n",
    "    -----------\n",
    "    vocabList : 所有单词的集合列表\n",
    "    inputSet : 输入数据集\n",
    "    \n",
    "    Return\n",
    "    -----------\n",
    "    returnVec : 匹配列表\n",
    "    \"\"\"\n",
    "    \n",
    "    returnVec = [0] * len(vocabList)\n",
    "    for word in inputSet:\n",
    "        if word in inputSet:\n",
    "            returnVec[vocabList.index(word)] = 1\n",
    "        else:\n",
    "            print(\"the word: %s is not in my Vocabulary!\" % word)\n",
    "    return returnVec"
   ]
  },
  {
   "cell_type": "code",
   "execution_count": 3,
   "metadata": {
    "scrolled": true
   },
   "outputs": [
    {
     "data": {
      "text/plain": [
       "['has',\n",
       " 'cute',\n",
       " 'not',\n",
       " 'my',\n",
       " 'how',\n",
       " 'licks',\n",
       " 'love',\n",
       " 'I',\n",
       " 'dog',\n",
       " 'food',\n",
       " 'worthless',\n",
       " 'so',\n",
       " 'dalmation',\n",
       " 'maybe',\n",
       " 'mr',\n",
       " 'problems',\n",
       " 'help',\n",
       " 'quit',\n",
       " 'garbage',\n",
       " 'steak',\n",
       " 'to',\n",
       " 'stop',\n",
       " 'ate',\n",
       " 'flea',\n",
       " 'park',\n",
       " 'is',\n",
       " 'take',\n",
       " 'posting',\n",
       " 'stupid',\n",
       " 'buying',\n",
       " 'him',\n",
       " 'please']"
      ]
     },
     "execution_count": 3,
     "metadata": {},
     "output_type": "execute_result"
    }
   ],
   "source": [
    "listOPosts, listClasses = loadDataSet()\n",
    "myVocabList = createVocabList(listOPosts)\n",
    "myVocabList # 所有单词的集合，不含重复单词"
   ]
  },
  {
   "cell_type": "code",
   "execution_count": 4,
   "metadata": {
    "scrolled": true
   },
   "outputs": [
    {
     "data": {
      "text/plain": [
       "[1,\n",
       " 0,\n",
       " 0,\n",
       " 1,\n",
       " 0,\n",
       " 0,\n",
       " 0,\n",
       " 0,\n",
       " 1,\n",
       " 0,\n",
       " 0,\n",
       " 0,\n",
       " 0,\n",
       " 0,\n",
       " 0,\n",
       " 1,\n",
       " 1,\n",
       " 0,\n",
       " 0,\n",
       " 0,\n",
       " 0,\n",
       " 0,\n",
       " 0,\n",
       " 1,\n",
       " 0,\n",
       " 0,\n",
       " 0,\n",
       " 0,\n",
       " 0,\n",
       " 0,\n",
       " 0,\n",
       " 1]"
      ]
     },
     "execution_count": 4,
     "metadata": {},
     "output_type": "execute_result"
    }
   ],
   "source": [
    "# 查看输入样本中的单词在单词表中的分布情况\n",
    "setOfWords2Vec(myVocabList, listOPosts[0])"
   ]
  },
  {
   "cell_type": "markdown",
   "metadata": {},
   "source": [
    "### b. 从词向量计算概率"
   ]
  },
  {
   "cell_type": "code",
   "execution_count": 5,
   "metadata": {},
   "outputs": [],
   "source": [
    "def trainNB0(trainMatrix, trainCategory):\n",
    "    \"\"\"朴素贝叶斯分类Demo\n",
    "    \n",
    "    Parameters\n",
    "    -----------\n",
    "    trainMatrix : 总的输入文本\n",
    "    trainCategory : 文件对应的类别分类\n",
    "    \n",
    "    \"\"\"\n",
    "    numTrainDocs = len(trainMatrix)        # 训练文本的个数 \n",
    "    numWords = len(trainMatrix[0])         # 训练样本向量，也是上面setOfWord2Vec得到的结果。\n",
    "    # 因为侮辱性被标记为了1，所以计算数目时只要相加就可以了。这样也就得到了侮辱性文件个数的概率\n",
    "    # 即trainCategory中1的个数\n",
    "    pAbusive = np.sum(trainCategory) / float(numTrainDocs)\n",
    "    # p0Num：非侮辱性样本中所有词汇出现的频度；p1Num：侮辱性样本中所有词汇出现的频度\n",
    "    p0Num = np.zeros(numWords); p1Num = np.zeros(numWords)\n",
    "    # p0Denom：非侮辱性样本中词汇总量；p1Denom：侮辱性样本中词汇总量\n",
    "    p0Denom = 0.0; p1Denom = 0.0\n",
    "    \n",
    "    for i in range(numTrainDocs):\n",
    "        if trainCategory[i] == 1:\n",
    "            p1Num += trainMatrix[i]\n",
    "            p1Denom += np.sum(trainMatrix[i])\n",
    "        else:\n",
    "            p0Num += trainMatrix[i]\n",
    "            p0Denom += np.sum(trainMatrix[i])\n",
    "    p1Vect = p1Num / p1Denom\n",
    "    p0Vect = p0Num / p0Denom\n",
    "    return p0Vect, p1Vect, pAbusive"
   ]
  },
  {
   "cell_type": "code",
   "execution_count": 7,
   "metadata": {
    "scrolled": true
   },
   "outputs": [
    {
     "data": {
      "text/plain": [
       "[[1,\n",
       "  0,\n",
       "  0,\n",
       "  1,\n",
       "  0,\n",
       "  0,\n",
       "  0,\n",
       "  0,\n",
       "  1,\n",
       "  0,\n",
       "  0,\n",
       "  0,\n",
       "  0,\n",
       "  0,\n",
       "  0,\n",
       "  1,\n",
       "  1,\n",
       "  0,\n",
       "  0,\n",
       "  0,\n",
       "  0,\n",
       "  0,\n",
       "  0,\n",
       "  1,\n",
       "  0,\n",
       "  0,\n",
       "  0,\n",
       "  0,\n",
       "  0,\n",
       "  0,\n",
       "  0,\n",
       "  1]]"
      ]
     },
     "execution_count": 7,
     "metadata": {},
     "output_type": "execute_result"
    }
   ],
   "source": [
    "# 测试Demo版分类函数\n",
    "trainMat = []\n",
    "for postinDoc in listOPosts:\n",
    "    trainMat.append(setOfWords2Vec(myVocabList, postinDoc))\n",
    "trainMat[:1]"
   ]
  },
  {
   "cell_type": "code",
   "execution_count": 13,
   "metadata": {},
   "outputs": [
    {
     "name": "stdout",
     "output_type": "stream",
     "text": [
      "0.5 \n",
      "\n",
      "[0.04166667 0.04166667 0.         0.125      0.04166667 0.04166667\n",
      " 0.04166667 0.04166667 0.04166667 0.         0.         0.04166667\n",
      " 0.04166667 0.         0.04166667 0.04166667 0.04166667 0.\n",
      " 0.         0.04166667 0.04166667 0.04166667 0.04166667 0.04166667\n",
      " 0.         0.04166667 0.         0.         0.         0.\n",
      " 0.08333333 0.04166667] \n",
      "\n",
      " [0.         0.         0.05263158 0.         0.         0.\n",
      " 0.         0.         0.10526316 0.05263158 0.10526316 0.\n",
      " 0.         0.05263158 0.         0.         0.         0.05263158\n",
      " 0.05263158 0.         0.05263158 0.05263158 0.         0.\n",
      " 0.05263158 0.         0.05263158 0.05263158 0.15789474 0.05263158\n",
      " 0.05263158 0.        ]\n"
     ]
    }
   ],
   "source": [
    "p0V, p1V, pAb = trainNB0(trainMat, listClasses)\n",
    "print(pAb, \"\\n\")\n",
    "print(p0V, \"\\n\\n\", p1V)"
   ]
  },
  {
   "cell_type": "markdown",
   "metadata": {},
   "source": [
    "### c. 根据实际情况修改分类器"
   ]
  },
  {
   "cell_type": "markdown",
   "metadata": {},
   "source": [
    "在使用朴素贝叶斯分类器时：\n",
    "> 1. 由于一些概率值可能会为0，这样最后的乘积也就为0，为了避免这种情况，可以使用拉普拉斯算子，将所有词汇的出现次数初始化为1，分母初始化为2。\n",
    "> 2. 由于大部分概率值都很小，这样在做连积的时候会造成程序下溢。这里对成绩取对数，把求积转换成求和。\n",
    "\n",
    "对上面代码进行修改，得到新的函数。"
   ]
  },
  {
   "cell_type": "code",
   "execution_count": 14,
   "metadata": {},
   "outputs": [],
   "source": [
    "def trainNB(trainMatrix, trainCategory):\n",
    "    \"\"\"朴素贝叶斯分类Modify\n",
    "    \n",
    "    Parameters\n",
    "    -----------\n",
    "    trainMatrix : 总的输入文本\n",
    "    trainCategory : 文件对应的类别分类\n",
    "    \n",
    "    \"\"\"\n",
    "    numTrainDocs = len(trainMatrix)        # 训练文本的个数 \n",
    "    numWords = len(trainMatrix[0])         # 训练样本向量，也是上面setOfWord2Vec得到的结果。\n",
    "    pAbusive = np.sum(trainCategory) / float(numTrainDocs)\n",
    "    p0Num = np.ones(numWords); p1Num = np.ones(numWords)\n",
    "    p0Denom = 2.0; p1Denom = 2.0\n",
    "    \n",
    "    for i in range(numTrainDocs):\n",
    "        if trainCategory[i] == 1:\n",
    "            p1Num += trainMatrix[i]\n",
    "            p1Denom += np.sum(trainMatrix[i])\n",
    "        else:\n",
    "            p0Num += trainMatrix[i]\n",
    "            p0Denom += np.sum(trainMatrix[i])\n",
    "    p1Vect = np.log(p1Num / p1Denom)\n",
    "    p0Vect = np.log(p0Num / p0Denom)\n",
    "    return p0Vect, p1Vect, pAbusive"
   ]
  },
  {
   "cell_type": "code",
   "execution_count": 15,
   "metadata": {},
   "outputs": [],
   "source": [
    "def classifyNB(vec2Classify, p0Vec, p1Vec, pClass1):\n",
    "    p1 = np.sum(vec2Classify * p1Vec) + np.log(pClass1)\n",
    "    p0 = np.sum(vec2Classify * p0Vec) + np.log(1 - pClass1)   # 二分类，所以直接用1减\n",
    "    if p1 > p0:\n",
    "        return 1\n",
    "    else:\n",
    "        return 0\n",
    "    \n",
    "def testingNB():\n",
    "    \"\"\"测试朴素贝叶斯算法\"\"\"\n",
    "    \n",
    "    # 1. 加载数据集\n",
    "    listOPosts, listClasses = loadDataSet()\n",
    "    # 2. 创建单词集合\n",
    "    myVocabList = createVocabList(listOPosts)\n",
    "    trainMat = []\n",
    "    \n",
    "    # 3. 计算单词是否出现并创建样本矩阵\n",
    "    for postinDoc in listOPosts:\n",
    "        trainMat.append(setOfWords2Vec(myVocabList, postinDoc))\n",
    "    \n",
    "    # 4. 训练数据\n",
    "    p0V, p1V, pAb = trainNB(np.array(trainMat), np.array(listClasses))\n",
    "    # 5. 测试数据\n",
    "    testEntry = ['love', 'my', 'dalmation']\n",
    "    thisDoc = np.array(setOfWords2Vec(myVocabList, testEntry))\n",
    "    print(testEntry, 'classified as: ', classifyNB(thisDoc, p0V, p1V, pAb))\n",
    "    \n",
    "    testEntry = ['stupid', 'garbage']\n",
    "    thisDoc = np.array(setOfWords2Vec(myVocabList, testEntry))\n",
    "    print(testEntry, 'classified as: ', classifyNB(thisDoc, p0V, p1V, pAb))"
   ]
  },
  {
   "cell_type": "code",
   "execution_count": 16,
   "metadata": {},
   "outputs": [
    {
     "name": "stdout",
     "output_type": "stream",
     "text": [
      "['love', 'my', 'dalmation'] classified as:  0\n",
      "['stupid', 'garbage'] classified as:  1\n"
     ]
    }
   ],
   "source": [
    "testingNB()"
   ]
  },
  {
   "cell_type": "code",
   "execution_count": null,
   "metadata": {},
   "outputs": [],
   "source": []
  }
 ],
 "metadata": {
  "kernelspec": {
   "display_name": "Python 3",
   "language": "python",
   "name": "python3"
  },
  "language_info": {
   "codemirror_mode": {
    "name": "ipython",
    "version": 3
   },
   "file_extension": ".py",
   "mimetype": "text/x-python",
   "name": "python",
   "nbconvert_exporter": "python",
   "pygments_lexer": "ipython3",
   "version": "3.6.5"
  }
 },
 "nbformat": 4,
 "nbformat_minor": 2
}
